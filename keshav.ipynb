{
 "cells": [
  {
   "cell_type": "code",
   "execution_count": 15,
   "metadata": {
    "scrolled": false
   },
   "outputs": [],
   "source": [
    "#importing libaries\n",
    "import pandas as pd\n",
    "import numpy as np\n",
    "import matplotlib.pyplot as plt\n",
    "import seaborn as sns\n",
    "%matplotlib inline"
   ]
  },
  {
   "cell_type": "code",
   "execution_count": 16,
   "metadata": {},
   "outputs": [],
   "source": [
    "#importing dataset\n",
    "train = pd.read_csv('astro_train.csv')\n",
    "test = pd.read_csv('astro_test.csv')"
   ]
  },
  {
   "cell_type": "code",
   "execution_count": 17,
   "metadata": {},
   "outputs": [],
   "source": [
    "#data Preprocseeing\n",
    "\n",
    "#seprating output class\n",
    "y_train= train['class']\n",
    "train = train.drop('class', axis= 1)\n",
    "\n",
    "dataset = pd.concat([train, test])\n",
    "dataset = dataset.drop(['id','skyVersion', 'run', 'rerun', 'camCol'], axis= 1)\n",
    "\n",
    "#transforming err functions to log\n",
    "dataset[\"err_g_log\"] = np.log(dataset[\"err_g\"])\n",
    "dataset[\"err_i_log\"] = np.log(dataset[\"err_i\"])\n",
    "dataset[\"err_r_cbrt\"] = np.cbrt(dataset[\"err_r\"])\n",
    "dataset[\"err_u_log\"] = np.log(dataset[\"err_u\"])\n",
    "dataset[\"err_z_log\"] = np.log(dataset[\"err_z\"])\n",
    "\n",
    "#Transforming other columns by deviding its data into groups \n",
    "dataset[\"#ra_cat\"] = pd.cut(dataset[\"#ra\"],\n",
    "                           bins=[0,180,220,240,np.inf],\n",
    "                           labels=[1,2,3,4])\n",
    "\n",
    "dataset[\"dec_cat\"] = pd.cut(dataset[\"dec\"],\n",
    "                           bins=[-1.25,-1.0,-0.25,np.inf],\n",
    "                           labels=[1,2,3])\n",
    "\n",
    "dataset[\"extinction_r_cat\"] = pd.cut(dataset[\"extinction_r\"],\n",
    "                           bins=[0,0.10,0.15,np.inf],\n",
    "                           labels=[1,2,3])\n",
    "\n",
    "dataset[\"field_cat\"] = pd.cut(dataset[\"field\"],\n",
    "                           bins=[0,300,500,550,np.inf],\n",
    "                           labels=[1,2,3,4])\n",
    "\n",
    "dataset = dataset.drop(['err_g', 'err_i', 'err_r', 'err_u', 'err_z', '#ra', 'dec', 'extinction_r', 'field'], axis= 1)\n",
    "\n",
    "cat_attr = [\"#ra_cat\",\"dec_cat\",\"extinction_r_cat\",\"field_cat\"]\n",
    "num_attr = [i for i in list(dataset.columns) if i not in cat_attr]\n",
    "\n",
    "#Scaling data\n",
    "from sklearn.pipeline import Pipeline\n",
    "from sklearn.preprocessing import StandardScaler\n",
    "\n",
    "num_pipeline = Pipeline([('std_scaler', StandardScaler())])\n",
    "\n",
    "from sklearn.compose import ColumnTransformer\n",
    "from sklearn.preprocessing import OneHotEncoder\n",
    "\n",
    "full_pipeline = ColumnTransformer([\n",
    "                (\"num\", num_pipeline, num_attr),\n",
    "                #(\"cat\", OneHotEncoder(), cat_attr),\n",
    "                ])\n",
    "\n",
    "transformed_dataset = full_pipeline.fit_transform(dataset)\n",
    "\n",
    "train_prepared = transformed_dataset[:45000, :]\n",
    "test_prepared = transformed_dataset[45000:, :]\n",
    "\n"
   ]
  },
  {
   "cell_type": "code",
   "execution_count": 18,
   "metadata": {},
   "outputs": [],
   "source": [
    "#over sampling data using SMOTE\n",
    "from imblearn.over_sampling import SMOTE\n",
    "smote = SMOTE()\n",
    "x_res, y_res = smote.fit_sample(train_prepared, y_train)"
   ]
  },
  {
   "cell_type": "code",
   "execution_count": 19,
   "metadata": {},
   "outputs": [
    {
     "data": {
      "text/plain": [
       "XGBClassifier(base_score=0.5, booster='dart', colsample_bylevel=1,\n",
       "              colsample_bynode=1, colsample_bytree=1, gamma=0.5, gpu_id=-1,\n",
       "              importance_type='gain', interaction_constraints=None,\n",
       "              learning_rate=0.3, max_delta_step=0, max_depth=6,\n",
       "              min_child_weight=1, missing=nan, monotone_constraints=None,\n",
       "              n_estimators=300, n_jobs=0, num_parallel_tree=1,\n",
       "              objective='multi:softprob', random_state=0, reg_alpha=0,\n",
       "              reg_lambda=1, scale_pos_weight=None, subsample=1,\n",
       "              tree_method=None, validate_parameters=False, verbosity=None)"
      ]
     },
     "execution_count": 19,
     "metadata": {},
     "output_type": "execute_result"
    }
   ],
   "source": [
    "#creating model using XGBoost\n",
    "import xgboost\n",
    "from xgboost import XGBClassifier\n",
    "classifier= XGBClassifier(booster= 'dart', n_estimators=300, learning_rate=0.3, gamma= 0.5)\n",
    "classifier.fit(x_res, y_res)"
   ]
  },
  {
   "cell_type": "code",
   "execution_count": 8,
   "metadata": {},
   "outputs": [],
   "source": [
    "#predictig results\n",
    "y_pre = classifier.predict(test_prepared)"
   ]
  },
  {
   "cell_type": "code",
   "execution_count": 9,
   "metadata": {},
   "outputs": [
    {
     "data": {
      "text/plain": [
       "array([0.68734762, 0.68675008, 0.68386269])"
      ]
     },
     "execution_count": 9,
     "metadata": {},
     "output_type": "execute_result"
    }
   ],
   "source": [
    "#spliting data\n",
    "from sklearn.model_selection import train_test_split\n",
    "X_train, X_test, Y_train, Y_test = train_test_split(x_res, y_res, test_size=0.2)\n",
    "\n",
    "#checking accuracies using k-fold validation\n",
    "from sklearn.model_selection import cross_val_score\n",
    "accuracies = cross_val_score(classifier, X_train, Y_train, cv= 3, n_jobs= -1)\n",
    "\n",
    "accuracies"
   ]
  },
  {
   "cell_type": "code",
   "execution_count": null,
   "metadata": {},
   "outputs": [],
   "source": []
  }
 ],
 "metadata": {
  "kernelspec": {
   "display_name": "Python 3",
   "language": "python",
   "name": "python3"
  },
  "language_info": {
   "codemirror_mode": {
    "name": "ipython",
    "version": 3
   },
   "file_extension": ".py",
   "mimetype": "text/x-python",
   "name": "python",
   "nbconvert_exporter": "python",
   "pygments_lexer": "ipython3",
   "version": "3.7.3"
  }
 },
 "nbformat": 4,
 "nbformat_minor": 2
}
