{
 "cells": [
  {
   "cell_type": "code",
   "execution_count": 1,
   "metadata": {
    "_cell_guid": "b1076dfc-b9ad-4769-8c92-a6c4dae69d19",
    "_uuid": "8f2839f25d086af736a60e9eeb907d3b93b6e0e5",
    "colab": {},
    "colab_type": "code",
    "id": "rB4juxibPtCb"
   },
   "outputs": [],
   "source": [
    "import os\n",
    "import numpy as np\n",
    "import pandas as pd\n",
    "import matplotlib.pyplot as plt\n",
    "import seaborn as sns\n",
    "%matplotlib inline\n",
    "\n",
    "pd.pandas.set_option('display.max_columns', None)"
   ]
  },
  {
   "cell_type": "code",
   "execution_count": 2,
   "metadata": {
    "_cell_guid": "79c7e3d0-c299-4dcb-8224-4455121ee9b0",
    "_uuid": "d629ff2d2480ee46fbb7e2d37f6b5fab8052498a",
    "colab": {},
    "colab_type": "code",
    "id": "ndSHLjBlPtCg"
   },
   "outputs": [],
   "source": [
    "train = pd.read_csv('astro_train.csv')\n",
    "test = pd.read_csv('astro_test.csv')"
   ]
  },
  {
   "cell_type": "code",
   "execution_count": 3,
   "metadata": {
    "colab": {},
    "colab_type": "code",
    "id": "8Mrlr4gBPtCk"
   },
   "outputs": [],
   "source": [
    "X = train.drop(\"class\", axis=1)\n",
    "y = train[\"class\"]"
   ]
  },
  {
   "cell_type": "code",
   "execution_count": 4,
   "metadata": {
    "colab": {},
    "colab_type": "code",
    "id": "BybdASrPPtCm"
   },
   "outputs": [],
   "source": [
    "#dataset = pd.concat([X, test])"
   ]
  },
  {
   "cell_type": "code",
   "execution_count": 5,
   "metadata": {
    "colab": {},
    "colab_type": "code",
    "id": "wDAgIIfAPtCp"
   },
   "outputs": [],
   "source": [
    "#dataset.shape"
   ]
  },
  {
   "cell_type": "code",
   "execution_count": 6,
   "metadata": {
    "colab": {
     "base_uri": "https://localhost:8080/",
     "height": 54
    },
    "colab_type": "code",
    "id": "hpMRwibkPtCs",
    "outputId": "b23341b7-1ca4-42d0-fd29-b71b599a36bf"
   },
   "outputs": [
    {
     "data": {
      "text/plain": [
       "'dataset[\"#ra_cat\"] = pd.cut(dataset[\"#ra\"],\\n                           bins=[0,180,220,np.inf],\\n                           labels=[1,2,3])\\ndataset[\"field_cat\"] = pd.cut(dataset[\"field\"],\\n                           bins=[0,300,500,550,np.inf],\\n                           labels=[1,2,3,4])\\ndataset[\"extinction_r_cat\"] = pd.cut(dataset[\"extinction_r\"],\\n                           bins=[0,0.2,0.3,np.inf],\\n                           labels=[1,2,3])\\ndataset[\"dec_cat\"] = pd.cut(dataset[\"dec\"],\\n                           bins=[-1.25,-1.0,-0.25,np.inf],\\n                           labels=[1,2,3])'"
      ]
     },
     "execution_count": 6,
     "metadata": {},
     "output_type": "execute_result"
    }
   ],
   "source": [
    "X[\"err_g_log\"] = np.log(X[\"err_g\"])\n",
    "X[\"err_i_log\"] = np.log(X[\"err_i\"])\n",
    "X[\"err_r_cbrt\"] = np.cbrt(X[\"err_r\"])\n",
    "X[\"err_u_log\"] = np.log(X[\"err_u\"])\n",
    "X[\"err_z_log\"] = np.log(X[\"err_z\"])\n",
    "'''dataset[\"#ra_cat\"] = pd.cut(dataset[\"#ra\"],\n",
    "                           bins=[0,180,220,np.inf],\n",
    "                           labels=[1,2,3])\n",
    "dataset[\"field_cat\"] = pd.cut(dataset[\"field\"],\n",
    "                           bins=[0,300,500,550,np.inf],\n",
    "                           labels=[1,2,3,4])\n",
    "dataset[\"extinction_r_cat\"] = pd.cut(dataset[\"extinction_r\"],\n",
    "                           bins=[0,0.2,0.3,np.inf],\n",
    "                           labels=[1,2,3])\n",
    "dataset[\"dec_cat\"] = pd.cut(dataset[\"dec\"],\n",
    "                           bins=[-1.25,-1.0,-0.25,np.inf],\n",
    "                           labels=[1,2,3])'''"
   ]
  },
  {
   "cell_type": "code",
   "execution_count": 7,
   "metadata": {
    "colab": {},
    "colab_type": "code",
    "id": "MNUF449GPtCv"
   },
   "outputs": [],
   "source": [
    "num_attr = [\"err_z_log\", \"dered_z\", \"err_i_log\", \"dered_i\", \"photoz\", \"dered_r\", \"err_g_log\", \"err_r_cbrt\", \"dered_g\", \"err_u_log\"]\n",
    "#cat_attr = [\"#ra_cat\",\"dec_cat\",\"extinction_r_cat\",\"field_cat\"]"
   ]
  },
  {
   "cell_type": "code",
   "execution_count": 8,
   "metadata": {
    "colab": {},
    "colab_type": "code",
    "id": "ModD_5XJPtCy"
   },
   "outputs": [],
   "source": [
    "X = X[num_attr]"
   ]
  },
  {
   "cell_type": "code",
   "execution_count": 9,
   "metadata": {
    "colab": {
     "base_uri": "https://localhost:8080/",
     "height": 54
    },
    "colab_type": "code",
    "id": "xm8SEDaVPtC1",
    "outputId": "59ad8eb6-150a-4bbd-cc82-4ee504fe1408"
   },
   "outputs": [
    {
     "data": {
      "text/plain": [
       "'num_pipeline = Pipeline([(\\'std_scaler\\', StandardScaler())])\\nfrom sklearn.compose import ColumnTransformer\\nfrom sklearn.preprocessing import OneHotEncoder\\nfull_pipeline = ColumnTransformer([\\n               (\"num\", num_pipeline, num_attr),\\n                #(\"cat\", OneHotEncoder(drop=\\'first\\'), cat_attr),\\n               ])'"
      ]
     },
     "execution_count": 9,
     "metadata": {},
     "output_type": "execute_result"
    }
   ],
   "source": [
    "'''num_pipeline = Pipeline([('std_scaler', StandardScaler())])\n",
    "from sklearn.compose import ColumnTransformer\n",
    "from sklearn.preprocessing import OneHotEncoder\n",
    "full_pipeline = ColumnTransformer([\n",
    "               (\"num\", num_pipeline, num_attr),\n",
    "                #(\"cat\", OneHotEncoder(drop='first'), cat_attr),\n",
    "               ])'''"
   ]
  },
  {
   "cell_type": "code",
   "execution_count": 10,
   "metadata": {
    "colab": {},
    "colab_type": "code",
    "id": "pI5CWSqaPtC3"
   },
   "outputs": [],
   "source": [
    "#dataset = full_pipeline.fit_transform(dataset)"
   ]
  },
  {
   "cell_type": "code",
   "execution_count": 11,
   "metadata": {
    "colab": {},
    "colab_type": "code",
    "id": "Kfh1D9GfPtC6"
   },
   "outputs": [],
   "source": [
    "#dataset.shape"
   ]
  },
  {
   "cell_type": "code",
   "execution_count": 12,
   "metadata": {
    "colab": {},
    "colab_type": "code",
    "id": "K3sTUbOpPtC8"
   },
   "outputs": [],
   "source": [
    "#train_prepared = dataset[:45000,:]\n",
    "#test_prepared = dataset[45000:, :]"
   ]
  },
  {
   "cell_type": "code",
   "execution_count": 13,
   "metadata": {
    "colab": {},
    "colab_type": "code",
    "id": "mesNfXE3PtC-"
   },
   "outputs": [],
   "source": [
    "#train_prepared.shape"
   ]
  },
  {
   "cell_type": "code",
   "execution_count": 14,
   "metadata": {
    "colab": {},
    "colab_type": "code",
    "id": "BnnJX2FjPtDA"
   },
   "outputs": [],
   "source": [
    "#test_prepared.shape\n",
    "seed = 1234\n",
    "num_folds = 10\n",
    "#n_jobs = -1"
   ]
  },
  {
   "cell_type": "code",
   "execution_count": 15,
   "metadata": {
    "colab": {},
    "colab_type": "code",
    "id": "zOhUzwXYPtDC"
   },
   "outputs": [
    {
     "name": "stderr",
     "output_type": "stream",
     "text": [
      "Using TensorFlow backend.\n"
     ]
    }
   ],
   "source": [
    "#over-sampling data\n",
    "from imblearn.over_sampling import SMOTE\n",
    "smote = SMOTE()\n",
    "X_res, y_res = smote.fit_sample(X, y)"
   ]
  },
  {
   "cell_type": "code",
   "execution_count": 16,
   "metadata": {
    "colab": {},
    "colab_type": "code",
    "id": "Li0DOGJMPtDF"
   },
   "outputs": [],
   "source": [
    "from sklearn.model_selection import train_test_split\n",
    "\n",
    "X_train, X_test, y_train, y_test = train_test_split(X_res, y_res, test_size=0.2, random_state=seed)"
   ]
  },
  {
   "cell_type": "code",
   "execution_count": 17,
   "metadata": {
    "colab": {},
    "colab_type": "code",
    "id": "lQ895SJuPtDJ"
   },
   "outputs": [],
   "source": [
    "from sklearn.ensemble import RandomForestClassifier\n",
    "from sklearn.pipeline import Pipeline\n",
    "from sklearn.decomposition import PCA\n",
    "from sklearn.preprocessing import Normalizer\n",
    "from sklearn.preprocessing import StandardScaler, MaxAbsScaler, MinMaxScaler, RobustScaler, QuantileTransformer, PowerTransformer\n",
    "from sklearn.model_selection import cross_val_score\n",
    "from sklearn.metrics import accuracy_score, f1_score\n",
    "from sklearn.model_selection import GridSearchCV, KFold\n",
    "\n",
    "models = [('rfc', RandomForestClassifier(n_estimators=600, class_weight={0:0.7, 1:1.11, 2:1.9}))]\n",
    "additions = [('PCA', PCA(n_components=4))]\n",
    "scalers = [('StandardScaler', StandardScaler()),\n",
    "           ('MinMaxScaler', MinMaxScaler()),\n",
    "           ('MaxAbsScaler', MaxAbsScaler()),\n",
    "           ('RobustScaler', RobustScaler()),\n",
    "           ('QuantileTransformer-Normal', QuantileTransformer(output_distribution='normal')),\n",
    "           ('QuantileTransformer-Uniform', QuantileTransformer(output_distribution='uniform')),\n",
    "           ('PowerTransformer-Yeo-Johnson', PowerTransformer(method='yeo-johnson')),\n",
    "           ('Normalizer', Normalizer())\n",
    "          ]"
   ]
  },
  {
   "cell_type": "code",
   "execution_count": 18,
   "metadata": {
    "colab": {
     "base_uri": "https://localhost:8080/",
     "height": 202
    },
    "colab_type": "code",
    "id": "dWEGk-WVPtDL",
    "outputId": "afaa3190-7137-45fa-ce4f-9595cffffcd4"
   },
   "outputs": [
    {
     "name": "stdout",
     "output_type": "stream",
     "text": [
      "Created these pipelines:\n",
      "_rfc\n",
      "_rfc-PCA\n",
      "StandardScaler_rfc\n",
      "MinMaxScaler_rfc\n",
      "MaxAbsScaler_rfc\n",
      "RobustScaler_rfc\n",
      "QuantileTransformer-Normal_rfc\n",
      "QuantileTransformer-Uniform_rfc\n",
      "PowerTransformer-Yeo-Johnson_rfc\n",
      "Normalizer_rfc\n"
     ]
    }
   ],
   "source": [
    "pipelines = []\n",
    "\n",
    "for model in models:\n",
    "    # Append only model\n",
    "    model_name = \"_\" + model[0]\n",
    "    pipelines.append((model_name, Pipeline([model])))\n",
    "    \n",
    "    for addition in additions:\n",
    "        model_name = \"_\" + model[0] + \"-\" + addition[0]\n",
    "        pipelines.append((model_name, Pipeline([addition, model])))\n",
    "    \n",
    "    # Append model+scaler\n",
    "    for scalar in scalers:\n",
    "        model_name = scalar[0] + \"_\" + model[0]\n",
    "        pipelines.append((model_name, Pipeline([scalar, model])))\n",
    "        \n",
    "print(\"Created these pipelines:\")\n",
    "for pipe in pipelines:\n",
    "    print(pipe[0])"
   ]
  },
  {
   "cell_type": "code",
   "execution_count": null,
   "metadata": {
    "colab": {
     "base_uri": "https://localhost:8080/",
     "height": 185
    },
    "colab_type": "code",
    "id": "GJrbriKhPtDO",
    "outputId": "8a7a4c63-b296-4ea1-b85a-a10cb863914a"
   },
   "outputs": [
    {
     "name": "stdout",
     "output_type": "stream",
     "text": [
      "_rfc: 0.737980 (0.007828)\n",
      "_rfc-PCA: 0.664877 (0.006122)\n",
      "StandardScaler_rfc: 0.737382 (0.008940)\n",
      "MinMaxScaler_rfc: 0.737959 (0.007480)\n",
      "MaxAbsScaler_rfc: 0.738194 (0.007910)\n",
      "RobustScaler_rfc: 0.738579 (0.006818)\n",
      "QuantileTransformer-Normal_rfc: 0.737510 (0.007512)\n",
      "QuantileTransformer-Uniform_rfc: 0.738900 (0.008148)\n"
     ]
    }
   ],
   "source": [
    "results = []\n",
    "names = []\n",
    "test_scores = []\n",
    "avg_f1_score = []\n",
    "\n",
    "for name, model in pipelines:\n",
    "        kfold = KFold(n_splits=num_folds, random_state=seed, shuffle=True)\n",
    "        cv_results = cross_val_score(model, X_train, y_train, cv=kfold, scoring=\"accuracy\")\n",
    "        results.append(cv_results)\n",
    "        names.append(name)\n",
    "\n",
    "        # Print CV results of the best CV classier\n",
    "        msg = \"%s: %f (%f)\" % (name, cv_results.mean(), cv_results.std())\n",
    "        print(msg)\n",
    "    \n",
    "        # fit on train and predict on test\n",
    "        model.fit(X_train, y_train)\n",
    "        \n",
    "        curr_test_score = model.score(X_test, y_test)\n",
    "        \n",
    "        test_scores.append(curr_test_score)\n",
    "        \n",
    "        y_pred = model.predict(X_test)\n",
    "        avg_f1_score.append(sum(f1_score(y_test, y_pred, average=None))/3)"
   ]
  },
  {
   "cell_type": "code",
   "execution_count": 0,
   "metadata": {
    "colab": {},
    "colab_type": "code",
    "id": "oXRx9F5DPtDZ"
   },
   "outputs": [],
   "source": [
    "result = pd.DataFrame({'Model':names, 'Train score':[acc.mean() for acc in results], 'Test score':test_scores, 'Avg F1 score':avg_f1_score})"
   ]
  },
  {
   "cell_type": "code",
   "execution_count": 0,
   "metadata": {
    "colab": {},
    "colab_type": "code",
    "id": "e5zwYuzgPtDU"
   },
   "outputs": [],
   "source": [
    "'''scores = cross_val_score(rfc, X_train, y_train, cv=3, scoring='accuracy')\n",
    "scores.mean()\n",
    "rfc.fit(X_train, y_train)\n",
    "ypred = rfc.predict(X_test)\n",
    "from sklearn.metrics import confusion_matrix, classification_report\n",
    "confusion_matrix(y_test, ypred)\n",
    "print(classification_report(y_test, ypred))\n",
    "from collections import Counter\n",
    "Counter(ypred)\n",
    "final_pred = rfc.predict(test_prepared)\n",
    "Counter(final_pred)'''"
   ]
  },
  {
   "cell_type": "code",
   "execution_count": 23,
   "metadata": {
    "colab": {
     "base_uri": "https://localhost:8080/",
     "height": 343
    },
    "colab_type": "code",
    "id": "bFZU17fBCPJP",
    "outputId": "a543e41c-feda-4f27-a630-d6057e8e706f"
   },
   "outputs": [
    {
     "data": {
      "text/html": [
       "<div>\n",
       "<style scoped>\n",
       "    .dataframe tbody tr th:only-of-type {\n",
       "        vertical-align: middle;\n",
       "    }\n",
       "\n",
       "    .dataframe tbody tr th {\n",
       "        vertical-align: top;\n",
       "    }\n",
       "\n",
       "    .dataframe thead th {\n",
       "        text-align: right;\n",
       "    }\n",
       "</style>\n",
       "<table border=\"1\" class=\"dataframe\">\n",
       "  <thead>\n",
       "    <tr style=\"text-align: right;\">\n",
       "      <th></th>\n",
       "      <th>Model</th>\n",
       "      <th>Train score</th>\n",
       "      <th>Test score</th>\n",
       "      <th>Avg F1 score</th>\n",
       "    </tr>\n",
       "  </thead>\n",
       "  <tbody>\n",
       "    <tr>\n",
       "      <th>0</th>\n",
       "      <td>_rfc</td>\n",
       "      <td>0.740632</td>\n",
       "      <td>0.740462</td>\n",
       "      <td>0.740073</td>\n",
       "    </tr>\n",
       "    <tr>\n",
       "      <th>1</th>\n",
       "      <td>_rfc-PCA</td>\n",
       "      <td>0.663466</td>\n",
       "      <td>0.669718</td>\n",
       "      <td>0.668563</td>\n",
       "    </tr>\n",
       "    <tr>\n",
       "      <th>2</th>\n",
       "      <td>StandardScaler_rfc</td>\n",
       "      <td>0.740461</td>\n",
       "      <td>0.741488</td>\n",
       "      <td>0.741044</td>\n",
       "    </tr>\n",
       "    <tr>\n",
       "      <th>3</th>\n",
       "      <td>MinMaxScaler_rfc</td>\n",
       "      <td>0.740846</td>\n",
       "      <td>0.741146</td>\n",
       "      <td>0.740783</td>\n",
       "    </tr>\n",
       "    <tr>\n",
       "      <th>4</th>\n",
       "      <td>MaxAbsScaler_rfc</td>\n",
       "      <td>0.740419</td>\n",
       "      <td>0.739264</td>\n",
       "      <td>0.738871</td>\n",
       "    </tr>\n",
       "    <tr>\n",
       "      <th>5</th>\n",
       "      <td>RobustScaler_rfc</td>\n",
       "      <td>0.739734</td>\n",
       "      <td>0.738837</td>\n",
       "      <td>0.738455</td>\n",
       "    </tr>\n",
       "    <tr>\n",
       "      <th>6</th>\n",
       "      <td>QuantileTransformer-Normal_rfc</td>\n",
       "      <td>0.740354</td>\n",
       "      <td>0.742173</td>\n",
       "      <td>0.741891</td>\n",
       "    </tr>\n",
       "    <tr>\n",
       "      <th>7</th>\n",
       "      <td>QuantileTransformer-Uniform_rfc</td>\n",
       "      <td>0.741317</td>\n",
       "      <td>0.739778</td>\n",
       "      <td>0.739395</td>\n",
       "    </tr>\n",
       "    <tr>\n",
       "      <th>8</th>\n",
       "      <td>PowerTransformer-Yeo-Johnson_rfc</td>\n",
       "      <td>0.739841</td>\n",
       "      <td>0.740975</td>\n",
       "      <td>0.740535</td>\n",
       "    </tr>\n",
       "    <tr>\n",
       "      <th>9</th>\n",
       "      <td>Normalizer_rfc</td>\n",
       "      <td>0.733831</td>\n",
       "      <td>0.737639</td>\n",
       "      <td>0.737437</td>\n",
       "    </tr>\n",
       "  </tbody>\n",
       "</table>\n",
       "</div>"
      ],
      "text/plain": [
       "                              Model  Train score  Test score  Avg F1 score\n",
       "0                              _rfc     0.740632    0.740462      0.740073\n",
       "1                          _rfc-PCA     0.663466    0.669718      0.668563\n",
       "2                StandardScaler_rfc     0.740461    0.741488      0.741044\n",
       "3                  MinMaxScaler_rfc     0.740846    0.741146      0.740783\n",
       "4                  MaxAbsScaler_rfc     0.740419    0.739264      0.738871\n",
       "5                  RobustScaler_rfc     0.739734    0.738837      0.738455\n",
       "6    QuantileTransformer-Normal_rfc     0.740354    0.742173      0.741891\n",
       "7   QuantileTransformer-Uniform_rfc     0.741317    0.739778      0.739395\n",
       "8  PowerTransformer-Yeo-Johnson_rfc     0.739841    0.740975      0.740535\n",
       "9                    Normalizer_rfc     0.733831    0.737639      0.737437"
      ]
     },
     "execution_count": 23,
     "metadata": {
      "tags": []
     },
     "output_type": "execute_result"
    }
   ],
   "source": [
    "result"
   ]
  },
  {
   "cell_type": "code",
   "execution_count": 0,
   "metadata": {
    "colab": {},
    "colab_type": "code",
    "id": "QUyqUpOGPtDd"
   },
   "outputs": [],
   "source": [
    "final_model = Pipeline([('QuantileTransformer-Normal', QuantileTransformer(output_distribution='normal')),\n",
    "                        ('rfc', RandomForestClassifier(n_estimators=600, class_weight={0:0.7, 1:1.11, 2:1.9}))\n",
    "                      ])"
   ]
  },
  {
   "cell_type": "code",
   "execution_count": 28,
   "metadata": {
    "colab": {
     "base_uri": "https://localhost:8080/",
     "height": 353
    },
    "colab_type": "code",
    "id": "N_7pRJLOPtDg",
    "outputId": "8cba955a-f9e7-4b00-d7ec-5714553fe7cc"
   },
   "outputs": [
    {
     "data": {
      "text/plain": [
       "Pipeline(memory=None,\n",
       "         steps=[('QuantileTransformer-Normal',\n",
       "                 QuantileTransformer(copy=True, ignore_implicit_zeros=False,\n",
       "                                     n_quantiles=1000,\n",
       "                                     output_distribution='normal',\n",
       "                                     random_state=None, subsample=100000)),\n",
       "                ('rfc',\n",
       "                 RandomForestClassifier(bootstrap=True, ccp_alpha=0.0,\n",
       "                                        class_weight={0: 0.7, 1: 1.11, 2: 1.9},\n",
       "                                        criterion='gini', max_depth=None,\n",
       "                                        max_features='auto',\n",
       "                                        max_leaf_nodes=None, max_samples=None,\n",
       "                                        min_impurity_decrease=0.0,\n",
       "                                        min_impurity_split=None,\n",
       "                                        min_samples_leaf=1, min_samples_split=2,\n",
       "                                        min_weight_fraction_leaf=0.0,\n",
       "                                        n_estimators=600, n_jobs=None,\n",
       "                                        oob_score=False, random_state=None,\n",
       "                                        verbose=0, warm_start=False))],\n",
       "         verbose=False)"
      ]
     },
     "execution_count": 28,
     "metadata": {
      "tags": []
     },
     "output_type": "execute_result"
    }
   ],
   "source": [
    "final_model.fit(X_train, y_train)"
   ]
  },
  {
   "cell_type": "code",
   "execution_count": 0,
   "metadata": {
    "colab": {},
    "colab_type": "code",
    "id": "DFxrbtyWPtDm"
   },
   "outputs": [],
   "source": [
    "test[\"err_g_log\"] = np.log(test[\"err_g\"])\n",
    "test[\"err_i_log\"] = np.log(test[\"err_i\"])\n",
    "test[\"err_r_cbrt\"] = np.cbrt(test[\"err_r\"])\n",
    "test[\"err_u_log\"] = np.log(test[\"err_u\"])\n",
    "test[\"err_z_log\"] = np.log(test[\"err_z\"])\n",
    "\n",
    "final_test = test[num_attr]"
   ]
  },
  {
   "cell_type": "code",
   "execution_count": 0,
   "metadata": {
    "colab": {},
    "colab_type": "code",
    "id": "RnaUw0i2PtDj"
   },
   "outputs": [],
   "source": [
    "y_pred = final_model.predict(final_test)"
   ]
  },
  {
   "cell_type": "code",
   "execution_count": 33,
   "metadata": {
    "colab": {
     "base_uri": "https://localhost:8080/",
     "height": 34
    },
    "colab_type": "code",
    "id": "5DZIls-0PtDo",
    "outputId": "6757866b-2e92-4557-c45c-0560282e48d8"
   },
   "outputs": [
    {
     "data": {
      "text/plain": [
       "Counter({0: 6105, 1: 5269, 2: 3626})"
      ]
     },
     "execution_count": 33,
     "metadata": {
      "tags": []
     },
     "output_type": "execute_result"
    }
   ],
   "source": [
    "from collections import Counter\n",
    "Counter(y_pred)"
   ]
  },
  {
   "cell_type": "code",
   "execution_count": 0,
   "metadata": {
    "colab": {},
    "colab_type": "code",
    "id": "pPnSs1MhPtDq"
   },
   "outputs": [],
   "source": [
    "sub = pd.DataFrame({\"id\":test[\"id\"], \"class\":y_pred})"
   ]
  },
  {
   "cell_type": "code",
   "execution_count": 0,
   "metadata": {
    "colab": {},
    "colab_type": "code",
    "id": "eMuAe6mMPtDs"
   },
   "outputs": [],
   "source": [
    "sub.to_csv(\"submission.csv\",index=False)"
   ]
  },
  {
   "cell_type": "code",
   "execution_count": 0,
   "metadata": {
    "colab": {},
    "colab_type": "code",
    "id": "Wzo_M4cEPtDv"
   },
   "outputs": [],
   "source": [
    "from sklearn.discriminant_analysis import LinearDiscriminantAnalysis\n",
    "from sklearn.svm import SVC\n",
    "from sklearn.neighbors import KNeighborsClassifier"
   ]
  },
  {
   "cell_type": "code",
   "execution_count": 0,
   "metadata": {
    "colab": {},
    "colab_type": "code",
    "id": "m1uWP1YLPtDx"
   },
   "outputs": [],
   "source": [
    "models = [LinearDiscriminantAnalysis(), SVC(), KNeighborsClassifier()]"
   ]
  },
  {
   "cell_type": "code",
   "execution_count": 39,
   "metadata": {
    "colab": {
     "base_uri": "https://localhost:8080/",
     "height": 67
    },
    "colab_type": "code",
    "id": "dJ0SFYVdPtD0",
    "outputId": "5e277e48-1805-41dc-9d76-f2d747bd50ca"
   },
   "outputs": [
    {
     "name": "stdout",
     "output_type": "stream",
     "text": [
      "Normalizer_rfc: 0.594512 (0.005284)\n",
      "Normalizer_rfc: 0.611772 (0.005435)\n",
      "Normalizer_rfc: 0.682736 (0.006822)\n"
     ]
    }
   ],
   "source": [
    "for model in models:\n",
    "  kfold = KFold(n_splits=num_folds, random_state=seed, shuffle=True)\n",
    "  cv_results = cross_val_score(model, X_train, y_train, cv=kfold, scoring=\"accuracy\")\n",
    "  # Print CV results of the best CV classier\n",
    "  msg = \"%s: %f (%f)\" % (name, cv_results.mean(), cv_results.std())\n",
    "  print(msg)"
   ]
  },
  {
   "cell_type": "code",
   "execution_count": 0,
   "metadata": {
    "colab": {},
    "colab_type": "code",
    "id": "A5UkXebOPtD2"
   },
   "outputs": [],
   "source": []
  }
 ],
 "metadata": {
  "accelerator": "GPU",
  "colab": {
   "name": "DataMaestro.ipynb",
   "provenance": []
  },
  "kernelspec": {
   "display_name": "Python 3",
   "language": "python",
   "name": "python3"
  },
  "language_info": {
   "codemirror_mode": {
    "name": "ipython",
    "version": 3
   },
   "file_extension": ".py",
   "mimetype": "text/x-python",
   "name": "python",
   "nbconvert_exporter": "python",
   "pygments_lexer": "ipython3",
   "version": "3.6.9"
  }
 },
 "nbformat": 4,
 "nbformat_minor": 1
}
