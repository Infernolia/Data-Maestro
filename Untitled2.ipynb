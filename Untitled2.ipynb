{
 "cells": [
  {
   "cell_type": "code",
   "execution_count": 3,
   "metadata": {},
   "outputs": [
    {
     "data": {
      "text/html": [
       "<div>\n",
       "<style scoped>\n",
       "    .dataframe tbody tr th:only-of-type {\n",
       "        vertical-align: middle;\n",
       "    }\n",
       "\n",
       "    .dataframe tbody tr th {\n",
       "        vertical-align: top;\n",
       "    }\n",
       "\n",
       "    .dataframe thead th {\n",
       "        text-align: right;\n",
       "    }\n",
       "</style>\n",
       "<table border=\"1\" class=\"dataframe\">\n",
       "  <thead>\n",
       "    <tr style=\"text-align: right;\">\n",
       "      <th></th>\n",
       "      <th>dered_i</th>\n",
       "      <th>dered_z</th>\n",
       "      <th>dered_u</th>\n",
       "      <th>dered_g</th>\n",
       "      <th>dered_r</th>\n",
       "      <th>err_i</th>\n",
       "      <th>err_z</th>\n",
       "      <th>err_u</th>\n",
       "      <th>err_g</th>\n",
       "      <th>err_r</th>\n",
       "      <th>...</th>\n",
       "      <th>skyVersion</th>\n",
       "      <th>run</th>\n",
       "      <th>rerun</th>\n",
       "      <th>camCol</th>\n",
       "      <th>field</th>\n",
       "      <th>obj</th>\n",
       "      <th>photoz</th>\n",
       "      <th>#ra</th>\n",
       "      <th>dec</th>\n",
       "      <th>class</th>\n",
       "    </tr>\n",
       "    <tr>\n",
       "      <th>id</th>\n",
       "      <th></th>\n",
       "      <th></th>\n",
       "      <th></th>\n",
       "      <th></th>\n",
       "      <th></th>\n",
       "      <th></th>\n",
       "      <th></th>\n",
       "      <th></th>\n",
       "      <th></th>\n",
       "      <th></th>\n",
       "      <th></th>\n",
       "      <th></th>\n",
       "      <th></th>\n",
       "      <th></th>\n",
       "      <th></th>\n",
       "      <th></th>\n",
       "      <th></th>\n",
       "      <th></th>\n",
       "      <th></th>\n",
       "      <th></th>\n",
       "      <th></th>\n",
       "    </tr>\n",
       "  </thead>\n",
       "  <tbody>\n",
       "    <tr>\n",
       "      <th>0</th>\n",
       "      <td>15.1459</td>\n",
       "      <td>14.9723</td>\n",
       "      <td>18.6394</td>\n",
       "      <td>16.4080</td>\n",
       "      <td>15.4896</td>\n",
       "      <td>0.00195</td>\n",
       "      <td>0.00406</td>\n",
       "      <td>0.02796</td>\n",
       "      <td>0.00279</td>\n",
       "      <td>0.00197</td>\n",
       "      <td>...</td>\n",
       "      <td>1</td>\n",
       "      <td>745</td>\n",
       "      <td>40</td>\n",
       "      <td>2</td>\n",
       "      <td>518</td>\n",
       "      <td>5</td>\n",
       "      <td>2.64988</td>\n",
       "      <td>236.22077</td>\n",
       "      <td>-0.58795</td>\n",
       "      <td>0</td>\n",
       "    </tr>\n",
       "    <tr>\n",
       "      <th>1</th>\n",
       "      <td>17.3579</td>\n",
       "      <td>17.3498</td>\n",
       "      <td>18.5273</td>\n",
       "      <td>17.6527</td>\n",
       "      <td>17.4296</td>\n",
       "      <td>0.00757</td>\n",
       "      <td>0.02498</td>\n",
       "      <td>0.02484</td>\n",
       "      <td>0.00536</td>\n",
       "      <td>0.00577</td>\n",
       "      <td>...</td>\n",
       "      <td>1</td>\n",
       "      <td>745</td>\n",
       "      <td>40</td>\n",
       "      <td>2</td>\n",
       "      <td>518</td>\n",
       "      <td>8</td>\n",
       "      <td>2.63438</td>\n",
       "      <td>236.22135</td>\n",
       "      <td>-0.46320</td>\n",
       "      <td>0</td>\n",
       "    </tr>\n",
       "    <tr>\n",
       "      <th>2</th>\n",
       "      <td>20.6154</td>\n",
       "      <td>19.7785</td>\n",
       "      <td>25.4019</td>\n",
       "      <td>23.4824</td>\n",
       "      <td>22.5504</td>\n",
       "      <td>0.10071</td>\n",
       "      <td>0.16768</td>\n",
       "      <td>0.75381</td>\n",
       "      <td>0.46380</td>\n",
       "      <td>0.35679</td>\n",
       "      <td>...</td>\n",
       "      <td>1</td>\n",
       "      <td>745</td>\n",
       "      <td>40</td>\n",
       "      <td>2</td>\n",
       "      <td>518</td>\n",
       "      <td>9</td>\n",
       "      <td>1.65738</td>\n",
       "      <td>236.22055</td>\n",
       "      <td>-0.46434</td>\n",
       "      <td>0</td>\n",
       "    </tr>\n",
       "    <tr>\n",
       "      <th>3</th>\n",
       "      <td>15.0188</td>\n",
       "      <td>14.9927</td>\n",
       "      <td>16.7971</td>\n",
       "      <td>15.5712</td>\n",
       "      <td>15.1534</td>\n",
       "      <td>0.00183</td>\n",
       "      <td>0.00411</td>\n",
       "      <td>0.00820</td>\n",
       "      <td>0.00195</td>\n",
       "      <td>0.00171</td>\n",
       "      <td>...</td>\n",
       "      <td>1</td>\n",
       "      <td>745</td>\n",
       "      <td>40</td>\n",
       "      <td>2</td>\n",
       "      <td>518</td>\n",
       "      <td>12</td>\n",
       "      <td>2.28431</td>\n",
       "      <td>236.22224</td>\n",
       "      <td>-0.61553</td>\n",
       "      <td>0</td>\n",
       "    </tr>\n",
       "    <tr>\n",
       "      <th>4</th>\n",
       "      <td>20.3008</td>\n",
       "      <td>21.6454</td>\n",
       "      <td>23.7314</td>\n",
       "      <td>21.7139</td>\n",
       "      <td>20.9195</td>\n",
       "      <td>0.21194</td>\n",
       "      <td>1.86698</td>\n",
       "      <td>2.73388</td>\n",
       "      <td>0.27544</td>\n",
       "      <td>0.21740</td>\n",
       "      <td>...</td>\n",
       "      <td>1</td>\n",
       "      <td>745</td>\n",
       "      <td>40</td>\n",
       "      <td>2</td>\n",
       "      <td>518</td>\n",
       "      <td>13</td>\n",
       "      <td>1.34673</td>\n",
       "      <td>236.22307</td>\n",
       "      <td>-0.61710</td>\n",
       "      <td>1</td>\n",
       "    </tr>\n",
       "  </tbody>\n",
       "</table>\n",
       "<p>5 rows × 21 columns</p>\n",
       "</div>"
      ],
      "text/plain": [
       "    dered_i  dered_z  dered_u  dered_g  dered_r    err_i    err_z    err_u  \\\n",
       "id                                                                           \n",
       "0   15.1459  14.9723  18.6394  16.4080  15.4896  0.00195  0.00406  0.02796   \n",
       "1   17.3579  17.3498  18.5273  17.6527  17.4296  0.00757  0.02498  0.02484   \n",
       "2   20.6154  19.7785  25.4019  23.4824  22.5504  0.10071  0.16768  0.75381   \n",
       "3   15.0188  14.9927  16.7971  15.5712  15.1534  0.00183  0.00411  0.00820   \n",
       "4   20.3008  21.6454  23.7314  21.7139  20.9195  0.21194  1.86698  2.73388   \n",
       "\n",
       "      err_g    err_r  ...  skyVersion  run  rerun  camCol  field  obj  \\\n",
       "id                    ...                                               \n",
       "0   0.00279  0.00197  ...           1  745     40       2    518    5   \n",
       "1   0.00536  0.00577  ...           1  745     40       2    518    8   \n",
       "2   0.46380  0.35679  ...           1  745     40       2    518    9   \n",
       "3   0.00195  0.00171  ...           1  745     40       2    518   12   \n",
       "4   0.27544  0.21740  ...           1  745     40       2    518   13   \n",
       "\n",
       "     photoz        #ra      dec  class  \n",
       "id                                      \n",
       "0   2.64988  236.22077 -0.58795      0  \n",
       "1   2.63438  236.22135 -0.46320      0  \n",
       "2   1.65738  236.22055 -0.46434      0  \n",
       "3   2.28431  236.22224 -0.61553      0  \n",
       "4   1.34673  236.22307 -0.61710      1  \n",
       "\n",
       "[5 rows x 21 columns]"
      ]
     },
     "execution_count": 3,
     "metadata": {},
     "output_type": "execute_result"
    }
   ],
   "source": [
    "import os\n",
    "import numpy as np\n",
    "import pandas as pd\n",
    "import matplotlib.pyplot as plt\n",
    "from sklearn.ensemble import RandomForestClassifier\n",
    "train_dataset = pd.read_csv(\"astro_train.csv\")\n",
    "test_dataset = pd.read_csv(\"astro_test.csv\")\n",
    "\n",
    "train_dataset = train_dataset.set_index(\"id\")\n",
    "test_dataset = test_dataset.set_index(\"id\")\n",
    "train_dataset.head()"
   ]
  },
  {
   "cell_type": "code",
   "execution_count": 4,
   "metadata": {},
   "outputs": [],
   "source": [
    "cleaned_train_dataset = train_dataset.drop([\"skyVersion\",\"run\",\"rerun\",\"camCol\",\"run\"], axis=1)\n",
    "cleaned_test_dataset = test_dataset.drop([\"skyVersion\",\"run\",\"rerun\",\"camCol\",\"run\"], axis=1)"
   ]
  },
  {
   "cell_type": "code",
   "execution_count": 5,
   "metadata": {},
   "outputs": [
    {
     "data": {
      "text/html": [
       "<div>\n",
       "<style scoped>\n",
       "    .dataframe tbody tr th:only-of-type {\n",
       "        vertical-align: middle;\n",
       "    }\n",
       "\n",
       "    .dataframe tbody tr th {\n",
       "        vertical-align: top;\n",
       "    }\n",
       "\n",
       "    .dataframe thead th {\n",
       "        text-align: right;\n",
       "    }\n",
       "</style>\n",
       "<table border=\"1\" class=\"dataframe\">\n",
       "  <thead>\n",
       "    <tr style=\"text-align: right;\">\n",
       "      <th></th>\n",
       "      <th>dered_i</th>\n",
       "      <th>dered_z</th>\n",
       "      <th>dered_u</th>\n",
       "      <th>dered_g</th>\n",
       "      <th>dered_r</th>\n",
       "      <th>err_i</th>\n",
       "      <th>err_z</th>\n",
       "      <th>err_u</th>\n",
       "      <th>err_g</th>\n",
       "      <th>err_r</th>\n",
       "      <th>extinction_r</th>\n",
       "      <th>field</th>\n",
       "      <th>obj</th>\n",
       "      <th>photoz</th>\n",
       "      <th>#ra</th>\n",
       "      <th>dec</th>\n",
       "      <th>class</th>\n",
       "    </tr>\n",
       "    <tr>\n",
       "      <th>id</th>\n",
       "      <th></th>\n",
       "      <th></th>\n",
       "      <th></th>\n",
       "      <th></th>\n",
       "      <th></th>\n",
       "      <th></th>\n",
       "      <th></th>\n",
       "      <th></th>\n",
       "      <th></th>\n",
       "      <th></th>\n",
       "      <th></th>\n",
       "      <th></th>\n",
       "      <th></th>\n",
       "      <th></th>\n",
       "      <th></th>\n",
       "      <th></th>\n",
       "      <th></th>\n",
       "    </tr>\n",
       "  </thead>\n",
       "  <tbody>\n",
       "    <tr>\n",
       "      <th>0</th>\n",
       "      <td>15.1459</td>\n",
       "      <td>14.9723</td>\n",
       "      <td>18.6394</td>\n",
       "      <td>16.4080</td>\n",
       "      <td>15.4896</td>\n",
       "      <td>0.00195</td>\n",
       "      <td>0.00406</td>\n",
       "      <td>0.02796</td>\n",
       "      <td>0.00279</td>\n",
       "      <td>0.00197</td>\n",
       "      <td>0.27398</td>\n",
       "      <td>518</td>\n",
       "      <td>5</td>\n",
       "      <td>2.64988</td>\n",
       "      <td>236.22077</td>\n",
       "      <td>-0.58795</td>\n",
       "      <td>0</td>\n",
       "    </tr>\n",
       "    <tr>\n",
       "      <th>1</th>\n",
       "      <td>17.3579</td>\n",
       "      <td>17.3498</td>\n",
       "      <td>18.5273</td>\n",
       "      <td>17.6527</td>\n",
       "      <td>17.4296</td>\n",
       "      <td>0.00757</td>\n",
       "      <td>0.02498</td>\n",
       "      <td>0.02484</td>\n",
       "      <td>0.00536</td>\n",
       "      <td>0.00577</td>\n",
       "      <td>0.26224</td>\n",
       "      <td>518</td>\n",
       "      <td>8</td>\n",
       "      <td>2.63438</td>\n",
       "      <td>236.22135</td>\n",
       "      <td>-0.46320</td>\n",
       "      <td>0</td>\n",
       "    </tr>\n",
       "    <tr>\n",
       "      <th>2</th>\n",
       "      <td>20.6154</td>\n",
       "      <td>19.7785</td>\n",
       "      <td>25.4019</td>\n",
       "      <td>23.4824</td>\n",
       "      <td>22.5504</td>\n",
       "      <td>0.10071</td>\n",
       "      <td>0.16768</td>\n",
       "      <td>0.75381</td>\n",
       "      <td>0.46380</td>\n",
       "      <td>0.35679</td>\n",
       "      <td>0.26225</td>\n",
       "      <td>518</td>\n",
       "      <td>9</td>\n",
       "      <td>1.65738</td>\n",
       "      <td>236.22055</td>\n",
       "      <td>-0.46434</td>\n",
       "      <td>0</td>\n",
       "    </tr>\n",
       "    <tr>\n",
       "      <th>3</th>\n",
       "      <td>15.0188</td>\n",
       "      <td>14.9927</td>\n",
       "      <td>16.7971</td>\n",
       "      <td>15.5712</td>\n",
       "      <td>15.1534</td>\n",
       "      <td>0.00183</td>\n",
       "      <td>0.00411</td>\n",
       "      <td>0.00820</td>\n",
       "      <td>0.00195</td>\n",
       "      <td>0.00171</td>\n",
       "      <td>0.27651</td>\n",
       "      <td>518</td>\n",
       "      <td>12</td>\n",
       "      <td>2.28431</td>\n",
       "      <td>236.22224</td>\n",
       "      <td>-0.61553</td>\n",
       "      <td>0</td>\n",
       "    </tr>\n",
       "    <tr>\n",
       "      <th>4</th>\n",
       "      <td>20.3008</td>\n",
       "      <td>21.6454</td>\n",
       "      <td>23.7314</td>\n",
       "      <td>21.7139</td>\n",
       "      <td>20.9195</td>\n",
       "      <td>0.21194</td>\n",
       "      <td>1.86698</td>\n",
       "      <td>2.73388</td>\n",
       "      <td>0.27544</td>\n",
       "      <td>0.21740</td>\n",
       "      <td>0.27670</td>\n",
       "      <td>518</td>\n",
       "      <td>13</td>\n",
       "      <td>1.34673</td>\n",
       "      <td>236.22307</td>\n",
       "      <td>-0.61710</td>\n",
       "      <td>1</td>\n",
       "    </tr>\n",
       "  </tbody>\n",
       "</table>\n",
       "</div>"
      ],
      "text/plain": [
       "    dered_i  dered_z  dered_u  dered_g  dered_r    err_i    err_z    err_u  \\\n",
       "id                                                                           \n",
       "0   15.1459  14.9723  18.6394  16.4080  15.4896  0.00195  0.00406  0.02796   \n",
       "1   17.3579  17.3498  18.5273  17.6527  17.4296  0.00757  0.02498  0.02484   \n",
       "2   20.6154  19.7785  25.4019  23.4824  22.5504  0.10071  0.16768  0.75381   \n",
       "3   15.0188  14.9927  16.7971  15.5712  15.1534  0.00183  0.00411  0.00820   \n",
       "4   20.3008  21.6454  23.7314  21.7139  20.9195  0.21194  1.86698  2.73388   \n",
       "\n",
       "      err_g    err_r  extinction_r  field  obj   photoz        #ra      dec  \\\n",
       "id                                                                            \n",
       "0   0.00279  0.00197       0.27398    518    5  2.64988  236.22077 -0.58795   \n",
       "1   0.00536  0.00577       0.26224    518    8  2.63438  236.22135 -0.46320   \n",
       "2   0.46380  0.35679       0.26225    518    9  1.65738  236.22055 -0.46434   \n",
       "3   0.00195  0.00171       0.27651    518   12  2.28431  236.22224 -0.61553   \n",
       "4   0.27544  0.21740       0.27670    518   13  1.34673  236.22307 -0.61710   \n",
       "\n",
       "    class  \n",
       "id         \n",
       "0       0  \n",
       "1       0  \n",
       "2       0  \n",
       "3       0  \n",
       "4       1  "
      ]
     },
     "execution_count": 5,
     "metadata": {},
     "output_type": "execute_result"
    }
   ],
   "source": [
    " cleaned_train_dataset.head()"
   ]
  },
  {
   "cell_type": "code",
   "execution_count": 6,
   "metadata": {},
   "outputs": [],
   "source": [
    "X = cleaned_train_dataset[[\"dered_i\",\"dered_z\",\"dered_u\",\"dered_g\"]]\n",
    "y = cleaned_train_dataset[\"class\"]"
   ]
  },
  {
   "cell_type": "code",
   "execution_count": 14,
   "metadata": {},
   "outputs": [],
   "source": [
    "from sklearn.model_selection import train_test_split\n",
    "# here I used 20% data for test_data and 80% as train_data\n",
    "X_train, X_test, y_train, y_test = train_test_split(X, y, test_size=0.2, random_state=1)\n",
    "from sklearn.svm import SVR\n",
    "regressor = RandomForestClassifier(n_estimators=250,criterion=\"entropy\")"
   ]
  },
  {
   "cell_type": "code",
   "execution_count": 15,
   "metadata": {},
   "outputs": [
    {
     "data": {
      "text/plain": [
       "RandomForestClassifier(bootstrap=True, ccp_alpha=0.0, class_weight=None,\n",
       "                       criterion='entropy', max_depth=None, max_features='auto',\n",
       "                       max_leaf_nodes=None, max_samples=None,\n",
       "                       min_impurity_decrease=0.0, min_impurity_split=None,\n",
       "                       min_samples_leaf=1, min_samples_split=2,\n",
       "                       min_weight_fraction_leaf=0.0, n_estimators=250,\n",
       "                       n_jobs=None, oob_score=False, random_state=None,\n",
       "                       verbose=0, warm_start=False)"
      ]
     },
     "execution_count": 15,
     "metadata": {},
     "output_type": "execute_result"
    }
   ],
   "source": [
    "regressor.fit(X_train, y_train)"
   ]
  },
  {
   "cell_type": "code",
   "execution_count": 11,
   "metadata": {},
   "outputs": [
    {
     "data": {
      "text/plain": [
       "0.13971082444323313"
      ]
     },
     "execution_count": 11,
     "metadata": {},
     "output_type": "execute_result"
    }
   ],
   "source": [
    "y_pred = regressor.predict(X_test)\n",
    "# Printing the R^2 score\n",
    "regressor.score(X_test, y_test)"
   ]
  },
  {
   "cell_type": "code",
   "execution_count": 12,
   "metadata": {},
   "outputs": [
    {
     "name": "stdout",
     "output_type": "stream",
     "text": [
      "Mean absolute error: 0.5634479586321179\n"
     ]
    }
   ],
   "source": [
    "from sklearn.metrics import mean_absolute_error\n",
    "mae = mean_absolute_error(y_pred, y_test)\n",
    "print(\"Mean absolute error:\", mae)"
   ]
  },
  {
   "cell_type": "code",
   "execution_count": 13,
   "metadata": {},
   "outputs": [
    {
     "name": "stdout",
     "output_type": "stream",
     "text": [
      "[LibSVM][LibSVM][LibSVM][LibSVM][LibSVM][LibSVM][LibSVM][LibSVM][LibSVM][LibSVM][LibSVM][LibSVM][LibSVM][LibSVM][LibSVM][LibSVM][LibSVM][LibSVM][LibSVM][LibSVM][LibSVM][LibSVM][LibSVM][LibSVM][LibSVM][LibSVM][LibSVM][LibSVM][LibSVM][LibSVM][LibSVM][LibSVM][LibSVM][LibSVM][LibSVM][LibSVM][LibSVM][LibSVM][LibSVM][LibSVM][LibSVM][LibSVM][LibSVM][LibSVM][LibSVM][LibSVM][LibSVM][LibSVM][LibSVM][LibSVM][LibSVM][LibSVM][LibSVM][LibSVM][LibSVM][LibSVM][LibSVM][LibSVM][LibSVM][LibSVM][LibSVM][LibSVM][LibSVM][LibSVM][LibSVM][LibSVM][LibSVM][LibSVM][LibSVM][LibSVM][LibSVM][LibSVM][LibSVM][LibSVM][LibSVM][LibSVM][LibSVM][LibSVM][LibSVM][LibSVM][LibSVM]"
     ]
    },
    {
     "data": {
      "text/plain": [
       "GridSearchCV(cv=5, error_score='raise',\n",
       "       estimator=SVR(C=1.0, cache_size=200, coef0=0.0, degree=3, epsilon=0.1, gamma='auto',\n",
       "  kernel='rbf', max_iter=-1, shrinking=True, tol=0.001, verbose=2),\n",
       "       fit_params=None, iid=True, n_jobs=1,\n",
       "       param_grid={'C': [0.01, 0.1, 1, 10], 'epsilon': [0.01, 0.1, 0.5, 1]},\n",
       "       pre_dispatch='2*n_jobs', refit=True, return_train_score='warn',\n",
       "       scoring=None, verbose=0)"
      ]
     },
     "execution_count": 13,
     "metadata": {},
     "output_type": "execute_result"
    }
   ],
   "source": [
    "from sklearn.model_selection import GridSearchCV\n",
    "from sklearn.linear_model import LogisticRegression\n",
    "from sklearn.tree import DecisionTreeClassifier\n",
    "from sklearn.neighbors import KNeighborsClassifier\n",
    "from sklearn.discriminant_analysis import LinearDiscriminantAnalysis\n",
    "from sklearn.naive_bayes import GaussianNB\n",
    "from sklearn.svm import SVC\n",
    "from sklearn.svm import LinearSVC\n",
    "from sklearn.neighbors import KNeighborsClassifier\n",
    "from sklearn import linear_model\n",
    "\n",
    "warnings.filterwarnings('ignore')\n",
    "from sklearn.linear_model import RidgeCV, LassoCV\n",
    "from sklearn.ensemble import GradientBoostingClassifier\n",
    "from sklearn.ensemble import GradientBoostingRegressor\n",
    "from sklearn.ensemble import GradientBoostingRegressor\n",
    "from sklearn.ensemble import StackingRegressor\n",
    "from sklearn.linear_model import LogisticRegression\n",
    "from sklearn.neural_network import MLPClassifier\n",
    "parameters = {'C':[0.01, 0.1, 1, 10], 'epsilon':[0.01, 0.1, 0.5, 1]}\n",
    "regressor = RandomForestClassifier(n_estimators=250,criterion=\"entropy\")\n",
    "clf = GridSearchCV(regressor, parameters, cv=5)  # Here cv means cross validation sets(number of sets in which the data will be divided)\n",
    "clf.fit(X_train, y_train)"
   ]
  },
  {
   "cell_type": "code",
   "execution_count": 14,
   "metadata": {},
   "outputs": [
    {
     "name": "stdout",
     "output_type": "stream",
     "text": [
      "[LibSVM]"
     ]
    },
    {
     "data": {
      "text/plain": [
       "SVR(C=1.0, cache_size=200, coef0=0.0, degree=3, epsilon=0.1, gamma='auto',\n",
       "  kernel='rbf', max_iter=-1, shrinking=True, tol=0.001, verbose=2)"
      ]
     },
     "execution_count": 14,
     "metadata": {},
     "output_type": "execute_result"
    }
   ],
   "source": [
    "regressor.fit(X, y)"
   ]
  },
  {
   "cell_type": "code",
   "execution_count": 1,
   "metadata": {},
   "outputs": [
    {
     "ename": "NameError",
     "evalue": "name 'cleaned_test_dataset' is not defined",
     "output_type": "error",
     "traceback": [
      "\u001b[1;31m---------------------------------------------------------------------------\u001b[0m",
      "\u001b[1;31mNameError\u001b[0m                                 Traceback (most recent call last)",
      "\u001b[1;32m<ipython-input-1-f5762cff274c>\u001b[0m in \u001b[0;36m<module>\u001b[1;34m\u001b[0m\n\u001b[1;32m----> 1\u001b[1;33m \u001b[0mX\u001b[0m \u001b[1;33m=\u001b[0m \u001b[0mcleaned_test_dataset\u001b[0m\u001b[1;33m\u001b[0m\u001b[1;33m\u001b[0m\u001b[0m\n\u001b[0m\u001b[0;32m      2\u001b[0m \u001b[0my_pred\u001b[0m \u001b[1;33m=\u001b[0m \u001b[0mregressor\u001b[0m\u001b[1;33m.\u001b[0m\u001b[0mpredict\u001b[0m\u001b[1;33m(\u001b[0m\u001b[0mX\u001b[0m\u001b[1;33m)\u001b[0m\u001b[1;33m\u001b[0m\u001b[1;33m\u001b[0m\u001b[0m\n",
      "\u001b[1;31mNameError\u001b[0m: name 'cleaned_test_dataset' is not defined"
     ]
    }
   ],
   "source": [
    "X = cleaned_test_dataset.drop\n",
    "y_pred = regressor.predict(X)"
   ]
  },
  {
   "cell_type": "code",
   "execution_count": 16,
   "metadata": {},
   "outputs": [],
   "source": [
    "y_pred = y_pred.astype(int)"
   ]
  },
  {
   "cell_type": "code",
   "execution_count": 17,
   "metadata": {},
   "outputs": [],
   "source": [
    "output_dataframe = pd.DataFrame({'Id': cleaned_test_dataset.index, 'class': y_pred})"
   ]
  },
  {
   "cell_type": "code",
   "execution_count": 19,
   "metadata": {},
   "outputs": [],
   "source": [
    "\n",
    "\n",
    "output_dataframe.to_csv(\"submission3.csv\", index=False)"
   ]
  },
  {
   "cell_type": "code",
   "execution_count": null,
   "metadata": {},
   "outputs": [],
   "source": []
  }
 ],
 "metadata": {
  "kernelspec": {
   "display_name": "Python 3",
   "language": "python",
   "name": "python3"
  },
  "language_info": {
   "codemirror_mode": {
    "name": "ipython",
    "version": 3
   },
   "file_extension": ".py",
   "mimetype": "text/x-python",
   "name": "python",
   "nbconvert_exporter": "python",
   "pygments_lexer": "ipython3",
   "version": "3.6.9"
  }
 },
 "nbformat": 4,
 "nbformat_minor": 2
}
