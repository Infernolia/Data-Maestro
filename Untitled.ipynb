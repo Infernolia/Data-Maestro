{
 "cells": [
  {
   "cell_type": "code",
   "execution_count": 1,
   "metadata": {},
   "outputs": [],
   "source": [
    "# Importing the required libraries\n",
    "import os\n",
    "import numpy as np\n",
    "import pandas as pd\n",
    "import matplotlib.pyplot as plt\n",
    "from sklearn.ensemble import RandomForestClassifier\n",
    "import math\n",
    "from sklearn.model_selection import train_test_split"
   ]
  },
  {
   "cell_type": "code",
   "execution_count": 2,
   "metadata": {},
   "outputs": [
    {
     "data": {
      "text/html": [
       "<div>\n",
       "<style scoped>\n",
       "    .dataframe tbody tr th:only-of-type {\n",
       "        vertical-align: middle;\n",
       "    }\n",
       "\n",
       "    .dataframe tbody tr th {\n",
       "        vertical-align: top;\n",
       "    }\n",
       "\n",
       "    .dataframe thead th {\n",
       "        text-align: right;\n",
       "    }\n",
       "</style>\n",
       "<table border=\"1\" class=\"dataframe\">\n",
       "  <thead>\n",
       "    <tr style=\"text-align: right;\">\n",
       "      <th></th>\n",
       "      <th>id</th>\n",
       "      <th>dered_i</th>\n",
       "      <th>dered_z</th>\n",
       "      <th>dered_u</th>\n",
       "      <th>dered_g</th>\n",
       "      <th>dered_r</th>\n",
       "      <th>err_i</th>\n",
       "      <th>err_z</th>\n",
       "      <th>err_u</th>\n",
       "      <th>err_g</th>\n",
       "      <th>...</th>\n",
       "      <th>skyVersion</th>\n",
       "      <th>run</th>\n",
       "      <th>rerun</th>\n",
       "      <th>camCol</th>\n",
       "      <th>field</th>\n",
       "      <th>obj</th>\n",
       "      <th>photoz</th>\n",
       "      <th>#ra</th>\n",
       "      <th>dec</th>\n",
       "      <th>class</th>\n",
       "    </tr>\n",
       "  </thead>\n",
       "  <tbody>\n",
       "    <tr>\n",
       "      <th>0</th>\n",
       "      <td>0</td>\n",
       "      <td>15.1459</td>\n",
       "      <td>14.9723</td>\n",
       "      <td>18.6394</td>\n",
       "      <td>16.4080</td>\n",
       "      <td>15.4896</td>\n",
       "      <td>0.00195</td>\n",
       "      <td>0.00406</td>\n",
       "      <td>0.02796</td>\n",
       "      <td>0.00279</td>\n",
       "      <td>...</td>\n",
       "      <td>1</td>\n",
       "      <td>745</td>\n",
       "      <td>40</td>\n",
       "      <td>2</td>\n",
       "      <td>518</td>\n",
       "      <td>5</td>\n",
       "      <td>2.64988</td>\n",
       "      <td>236.22077</td>\n",
       "      <td>-0.58795</td>\n",
       "      <td>0</td>\n",
       "    </tr>\n",
       "    <tr>\n",
       "      <th>1</th>\n",
       "      <td>1</td>\n",
       "      <td>17.3579</td>\n",
       "      <td>17.3498</td>\n",
       "      <td>18.5273</td>\n",
       "      <td>17.6527</td>\n",
       "      <td>17.4296</td>\n",
       "      <td>0.00757</td>\n",
       "      <td>0.02498</td>\n",
       "      <td>0.02484</td>\n",
       "      <td>0.00536</td>\n",
       "      <td>...</td>\n",
       "      <td>1</td>\n",
       "      <td>745</td>\n",
       "      <td>40</td>\n",
       "      <td>2</td>\n",
       "      <td>518</td>\n",
       "      <td>8</td>\n",
       "      <td>2.63438</td>\n",
       "      <td>236.22135</td>\n",
       "      <td>-0.46320</td>\n",
       "      <td>0</td>\n",
       "    </tr>\n",
       "    <tr>\n",
       "      <th>2</th>\n",
       "      <td>2</td>\n",
       "      <td>20.6154</td>\n",
       "      <td>19.7785</td>\n",
       "      <td>25.4019</td>\n",
       "      <td>23.4824</td>\n",
       "      <td>22.5504</td>\n",
       "      <td>0.10071</td>\n",
       "      <td>0.16768</td>\n",
       "      <td>0.75381</td>\n",
       "      <td>0.46380</td>\n",
       "      <td>...</td>\n",
       "      <td>1</td>\n",
       "      <td>745</td>\n",
       "      <td>40</td>\n",
       "      <td>2</td>\n",
       "      <td>518</td>\n",
       "      <td>9</td>\n",
       "      <td>1.65738</td>\n",
       "      <td>236.22055</td>\n",
       "      <td>-0.46434</td>\n",
       "      <td>0</td>\n",
       "    </tr>\n",
       "    <tr>\n",
       "      <th>3</th>\n",
       "      <td>3</td>\n",
       "      <td>15.0188</td>\n",
       "      <td>14.9927</td>\n",
       "      <td>16.7971</td>\n",
       "      <td>15.5712</td>\n",
       "      <td>15.1534</td>\n",
       "      <td>0.00183</td>\n",
       "      <td>0.00411</td>\n",
       "      <td>0.00820</td>\n",
       "      <td>0.00195</td>\n",
       "      <td>...</td>\n",
       "      <td>1</td>\n",
       "      <td>745</td>\n",
       "      <td>40</td>\n",
       "      <td>2</td>\n",
       "      <td>518</td>\n",
       "      <td>12</td>\n",
       "      <td>2.28431</td>\n",
       "      <td>236.22224</td>\n",
       "      <td>-0.61553</td>\n",
       "      <td>0</td>\n",
       "    </tr>\n",
       "    <tr>\n",
       "      <th>4</th>\n",
       "      <td>4</td>\n",
       "      <td>20.3008</td>\n",
       "      <td>21.6454</td>\n",
       "      <td>23.7314</td>\n",
       "      <td>21.7139</td>\n",
       "      <td>20.9195</td>\n",
       "      <td>0.21194</td>\n",
       "      <td>1.86698</td>\n",
       "      <td>2.73388</td>\n",
       "      <td>0.27544</td>\n",
       "      <td>...</td>\n",
       "      <td>1</td>\n",
       "      <td>745</td>\n",
       "      <td>40</td>\n",
       "      <td>2</td>\n",
       "      <td>518</td>\n",
       "      <td>13</td>\n",
       "      <td>1.34673</td>\n",
       "      <td>236.22307</td>\n",
       "      <td>-0.61710</td>\n",
       "      <td>1</td>\n",
       "    </tr>\n",
       "  </tbody>\n",
       "</table>\n",
       "<p>5 rows × 22 columns</p>\n",
       "</div>"
      ],
      "text/plain": [
       "   id  dered_i  dered_z  dered_u  dered_g  dered_r    err_i    err_z    err_u  \\\n",
       "0   0  15.1459  14.9723  18.6394  16.4080  15.4896  0.00195  0.00406  0.02796   \n",
       "1   1  17.3579  17.3498  18.5273  17.6527  17.4296  0.00757  0.02498  0.02484   \n",
       "2   2  20.6154  19.7785  25.4019  23.4824  22.5504  0.10071  0.16768  0.75381   \n",
       "3   3  15.0188  14.9927  16.7971  15.5712  15.1534  0.00183  0.00411  0.00820   \n",
       "4   4  20.3008  21.6454  23.7314  21.7139  20.9195  0.21194  1.86698  2.73388   \n",
       "\n",
       "     err_g  ...  skyVersion  run  rerun  camCol  field  obj   photoz  \\\n",
       "0  0.00279  ...           1  745     40       2    518    5  2.64988   \n",
       "1  0.00536  ...           1  745     40       2    518    8  2.63438   \n",
       "2  0.46380  ...           1  745     40       2    518    9  1.65738   \n",
       "3  0.00195  ...           1  745     40       2    518   12  2.28431   \n",
       "4  0.27544  ...           1  745     40       2    518   13  1.34673   \n",
       "\n",
       "         #ra      dec  class  \n",
       "0  236.22077 -0.58795      0  \n",
       "1  236.22135 -0.46320      0  \n",
       "2  236.22055 -0.46434      0  \n",
       "3  236.22224 -0.61553      0  \n",
       "4  236.22307 -0.61710      1  \n",
       "\n",
       "[5 rows x 22 columns]"
      ]
     },
     "execution_count": 2,
     "metadata": {},
     "output_type": "execute_result"
    }
   ],
   "source": [
    "train_dataset = pd.read_csv(\"astro_train.csv\")\n",
    "test_dataset = pd.read_csv(\"astro_test.csv\")\n",
    "\n",
    "\n",
    "train_dataset.head()"
   ]
  },
  {
   "cell_type": "code",
   "execution_count": 3,
   "metadata": {},
   "outputs": [],
   "source": [
    "cleaned_train_dataset = train_dataset.drop([\"skyVersion\",\"run\",\"rerun\",\"camCol\",\"id\"], axis=1)\n",
    "cleaned_test_dataset = test_dataset.drop([\"skyVersion\",\"run\",\"rerun\",\"camCol\",\"id\"], axis=1)\n",
    "\n",
    "cleaned_train_dataset=( cleaned_train_dataset- cleaned_train_dataset.min())/( cleaned_train_dataset.max()- cleaned_train_dataset.min())"
   ]
  },
  {
   "cell_type": "code",
   "execution_count": 4,
   "metadata": {},
   "outputs": [],
   "source": [
    "X = cleaned_train_dataset.drop([\"class\"], axis=1)\n",
    "y = cleaned_train_dataset[\"class\"]"
   ]
  },
  {
   "cell_type": "code",
   "execution_count": 5,
   "metadata": {},
   "outputs": [],
   "source": [
    "X_train, X_test, y_train, y_test = train_test_split(X, y, test_size=0.2, random_state=1)\n",
    "\n",
    "regressor = RandomForestClassifier(n_estimators=200,criterion=\"entropy\")"
   ]
  },
  {
   "cell_type": "code",
   "execution_count": 6,
   "metadata": {},
   "outputs": [
    {
     "data": {
      "text/plain": [
       "RandomForestClassifier(bootstrap=True, ccp_alpha=0.0, class_weight=None,\n",
       "                       criterion='entropy', max_depth=None, max_features='auto',\n",
       "                       max_leaf_nodes=None, max_samples=None,\n",
       "                       min_impurity_decrease=0.0, min_impurity_split=None,\n",
       "                       min_samples_leaf=1, min_samples_split=2,\n",
       "                       min_weight_fraction_leaf=0.0, n_estimators=200,\n",
       "                       n_jobs=None, oob_score=False, random_state=None,\n",
       "                       verbose=0, warm_start=False)"
      ]
     },
     "execution_count": 6,
     "metadata": {},
     "output_type": "execute_result"
    }
   ],
   "source": [
    "regressor.fit(X_train, y_train)"
   ]
  },
  {
   "cell_type": "code",
   "execution_count": 7,
   "metadata": {},
   "outputs": [
    {
     "data": {
      "text/plain": [
       "0.6688888888888889"
      ]
     },
     "execution_count": 7,
     "metadata": {},
     "output_type": "execute_result"
    }
   ],
   "source": [
    "y_pred = regressor.predict(X_test)\n",
    "# Printing the R^2 score\n",
    "regressor.score(X_test, y_test)"
   ]
  },
  {
   "cell_type": "code",
   "execution_count": 8,
   "metadata": {},
   "outputs": [
    {
     "name": "stdout",
     "output_type": "stream",
     "text": [
      "Mean absolute error: 0.4371111111111111\n"
     ]
    }
   ],
   "source": [
    "from sklearn.metrics import mean_absolute_error\n",
    "mae = mean_absolute_error(y_pred, y_test)\n",
    "print(\"Mean absolute error:\", mae)"
   ]
  },
  {
   "cell_type": "code",
   "execution_count": 9,
   "metadata": {},
   "outputs": [
    {
     "name": "stdout",
     "output_type": "stream",
     "text": [
      "Fitting 3 folds for each of 288 candidates, totalling 864 fits\n"
     ]
    },
    {
     "name": "stderr",
     "output_type": "stream",
     "text": [
      "[Parallel(n_jobs=-1)]: Using backend LokyBackend with 12 concurrent workers.\n",
      "[Parallel(n_jobs=-1)]: Done  17 tasks      | elapsed:   46.9s\n",
      "[Parallel(n_jobs=-1)]: Done 138 tasks      | elapsed:  6.9min\n",
      "[Parallel(n_jobs=-1)]: Done 341 tasks      | elapsed: 17.5min\n",
      "[Parallel(n_jobs=-1)]: Done 624 tasks      | elapsed: 34.2min\n",
      "[Parallel(n_jobs=-1)]: Done 864 out of 864 | elapsed: 48.3min finished\n"
     ]
    },
    {
     "data": {
      "text/plain": [
       "{'bootstrap': True,\n",
       " 'max_depth': 80,\n",
       " 'max_features': 3,\n",
       " 'min_samples_leaf': 3,\n",
       " 'min_samples_split': 10,\n",
       " 'n_estimators': 1000}"
      ]
     },
     "execution_count": 9,
     "metadata": {},
     "output_type": "execute_result"
    }
   ],
   "source": [
    "\n",
    "from sklearn.model_selection import GridSearchCV\n",
    "param_grid = {\n",
    "    'bootstrap': [True],\n",
    "    'max_depth': [80, 90, 100, 110],\n",
    "    'max_features': [2, 3],\n",
    "    'min_samples_leaf': [3, 4, 5],\n",
    "    'min_samples_split': [8, 10, 12],\n",
    "    'n_estimators': [100, 200, 300, 1000]\n",
    "}\n",
    "# Create a based model\n",
    "rf = RandomForestClassifier()\n",
    "# Instantiate the grid search model\n",
    "grid_search = GridSearchCV(estimator = rf, param_grid = param_grid, \n",
    "                          cv = 3, n_jobs = -1, verbose = 2)\n",
    "grid_search.fit(X_train,y_train)\n",
    "grid_search.best_params_"
   ]
  },
  {
   "cell_type": "code",
   "execution_count": null,
   "metadata": {},
   "outputs": [],
   "source": [
    "\n",
    "output_dataframe.to_csv(\"submission3.csv\", index=False)"
   ]
  }
 ],
 "metadata": {
  "kernelspec": {
   "display_name": "Python 3",
   "language": "python",
   "name": "python3"
  },
  "language_info": {
   "codemirror_mode": {
    "name": "ipython",
    "version": 3
   },
   "file_extension": ".py",
   "mimetype": "text/x-python",
   "name": "python",
   "nbconvert_exporter": "python",
   "pygments_lexer": "ipython3",
   "version": "3.6.9"
  }
 },
 "nbformat": 4,
 "nbformat_minor": 2
}
