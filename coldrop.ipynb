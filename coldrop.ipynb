{
 "cells": [
  {
   "cell_type": "code",
   "execution_count": 1,
   "metadata": {},
   "outputs": [],
   "source": [
    "#importing libraries\n",
    "import pandas as pd\n",
    "import numpy as np\n",
    "import matplotlib.pyplot as plt\n",
    "import seaborn as sns\n",
    "%matplotlib inline"
   ]
  },
  {
   "cell_type": "code",
   "execution_count": 2,
   "metadata": {},
   "outputs": [
    {
     "data": {
      "text/html": [
       "<div>\n",
       "<style scoped>\n",
       "    .dataframe tbody tr th:only-of-type {\n",
       "        vertical-align: middle;\n",
       "    }\n",
       "\n",
       "    .dataframe tbody tr th {\n",
       "        vertical-align: top;\n",
       "    }\n",
       "\n",
       "    .dataframe thead th {\n",
       "        text-align: right;\n",
       "    }\n",
       "</style>\n",
       "<table border=\"1\" class=\"dataframe\">\n",
       "  <thead>\n",
       "    <tr style=\"text-align: right;\">\n",
       "      <th></th>\n",
       "      <th>id</th>\n",
       "      <th>dered_i</th>\n",
       "      <th>dered_z</th>\n",
       "      <th>dered_u</th>\n",
       "      <th>dered_g</th>\n",
       "      <th>dered_r</th>\n",
       "      <th>err_i</th>\n",
       "      <th>err_z</th>\n",
       "      <th>err_u</th>\n",
       "      <th>err_g</th>\n",
       "      <th>...</th>\n",
       "      <th>skyVersion</th>\n",
       "      <th>run</th>\n",
       "      <th>rerun</th>\n",
       "      <th>camCol</th>\n",
       "      <th>field</th>\n",
       "      <th>obj</th>\n",
       "      <th>photoz</th>\n",
       "      <th>#ra</th>\n",
       "      <th>dec</th>\n",
       "      <th>class</th>\n",
       "    </tr>\n",
       "  </thead>\n",
       "  <tbody>\n",
       "    <tr>\n",
       "      <th>0</th>\n",
       "      <td>0</td>\n",
       "      <td>15.1459</td>\n",
       "      <td>14.9723</td>\n",
       "      <td>18.6394</td>\n",
       "      <td>16.4080</td>\n",
       "      <td>15.4896</td>\n",
       "      <td>0.00195</td>\n",
       "      <td>0.00406</td>\n",
       "      <td>0.02796</td>\n",
       "      <td>0.00279</td>\n",
       "      <td>...</td>\n",
       "      <td>1</td>\n",
       "      <td>745</td>\n",
       "      <td>40</td>\n",
       "      <td>2</td>\n",
       "      <td>518</td>\n",
       "      <td>5</td>\n",
       "      <td>2.64988</td>\n",
       "      <td>236.22077</td>\n",
       "      <td>-0.58795</td>\n",
       "      <td>0</td>\n",
       "    </tr>\n",
       "    <tr>\n",
       "      <th>1</th>\n",
       "      <td>1</td>\n",
       "      <td>17.3579</td>\n",
       "      <td>17.3498</td>\n",
       "      <td>18.5273</td>\n",
       "      <td>17.6527</td>\n",
       "      <td>17.4296</td>\n",
       "      <td>0.00757</td>\n",
       "      <td>0.02498</td>\n",
       "      <td>0.02484</td>\n",
       "      <td>0.00536</td>\n",
       "      <td>...</td>\n",
       "      <td>1</td>\n",
       "      <td>745</td>\n",
       "      <td>40</td>\n",
       "      <td>2</td>\n",
       "      <td>518</td>\n",
       "      <td>8</td>\n",
       "      <td>2.63438</td>\n",
       "      <td>236.22135</td>\n",
       "      <td>-0.46320</td>\n",
       "      <td>0</td>\n",
       "    </tr>\n",
       "    <tr>\n",
       "      <th>2</th>\n",
       "      <td>2</td>\n",
       "      <td>20.6154</td>\n",
       "      <td>19.7785</td>\n",
       "      <td>25.4019</td>\n",
       "      <td>23.4824</td>\n",
       "      <td>22.5504</td>\n",
       "      <td>0.10071</td>\n",
       "      <td>0.16768</td>\n",
       "      <td>0.75381</td>\n",
       "      <td>0.46380</td>\n",
       "      <td>...</td>\n",
       "      <td>1</td>\n",
       "      <td>745</td>\n",
       "      <td>40</td>\n",
       "      <td>2</td>\n",
       "      <td>518</td>\n",
       "      <td>9</td>\n",
       "      <td>1.65738</td>\n",
       "      <td>236.22055</td>\n",
       "      <td>-0.46434</td>\n",
       "      <td>0</td>\n",
       "    </tr>\n",
       "    <tr>\n",
       "      <th>3</th>\n",
       "      <td>3</td>\n",
       "      <td>15.0188</td>\n",
       "      <td>14.9927</td>\n",
       "      <td>16.7971</td>\n",
       "      <td>15.5712</td>\n",
       "      <td>15.1534</td>\n",
       "      <td>0.00183</td>\n",
       "      <td>0.00411</td>\n",
       "      <td>0.00820</td>\n",
       "      <td>0.00195</td>\n",
       "      <td>...</td>\n",
       "      <td>1</td>\n",
       "      <td>745</td>\n",
       "      <td>40</td>\n",
       "      <td>2</td>\n",
       "      <td>518</td>\n",
       "      <td>12</td>\n",
       "      <td>2.28431</td>\n",
       "      <td>236.22224</td>\n",
       "      <td>-0.61553</td>\n",
       "      <td>0</td>\n",
       "    </tr>\n",
       "    <tr>\n",
       "      <th>4</th>\n",
       "      <td>4</td>\n",
       "      <td>20.3008</td>\n",
       "      <td>21.6454</td>\n",
       "      <td>23.7314</td>\n",
       "      <td>21.7139</td>\n",
       "      <td>20.9195</td>\n",
       "      <td>0.21194</td>\n",
       "      <td>1.86698</td>\n",
       "      <td>2.73388</td>\n",
       "      <td>0.27544</td>\n",
       "      <td>...</td>\n",
       "      <td>1</td>\n",
       "      <td>745</td>\n",
       "      <td>40</td>\n",
       "      <td>2</td>\n",
       "      <td>518</td>\n",
       "      <td>13</td>\n",
       "      <td>1.34673</td>\n",
       "      <td>236.22307</td>\n",
       "      <td>-0.61710</td>\n",
       "      <td>1</td>\n",
       "    </tr>\n",
       "  </tbody>\n",
       "</table>\n",
       "<p>5 rows × 22 columns</p>\n",
       "</div>"
      ],
      "text/plain": [
       "   id  dered_i  dered_z  dered_u  dered_g  dered_r    err_i    err_z    err_u  \\\n",
       "0   0  15.1459  14.9723  18.6394  16.4080  15.4896  0.00195  0.00406  0.02796   \n",
       "1   1  17.3579  17.3498  18.5273  17.6527  17.4296  0.00757  0.02498  0.02484   \n",
       "2   2  20.6154  19.7785  25.4019  23.4824  22.5504  0.10071  0.16768  0.75381   \n",
       "3   3  15.0188  14.9927  16.7971  15.5712  15.1534  0.00183  0.00411  0.00820   \n",
       "4   4  20.3008  21.6454  23.7314  21.7139  20.9195  0.21194  1.86698  2.73388   \n",
       "\n",
       "     err_g  ...  skyVersion  run  rerun  camCol  field  obj   photoz  \\\n",
       "0  0.00279  ...           1  745     40       2    518    5  2.64988   \n",
       "1  0.00536  ...           1  745     40       2    518    8  2.63438   \n",
       "2  0.46380  ...           1  745     40       2    518    9  1.65738   \n",
       "3  0.00195  ...           1  745     40       2    518   12  2.28431   \n",
       "4  0.27544  ...           1  745     40       2    518   13  1.34673   \n",
       "\n",
       "         #ra      dec  class  \n",
       "0  236.22077 -0.58795      0  \n",
       "1  236.22135 -0.46320      0  \n",
       "2  236.22055 -0.46434      0  \n",
       "3  236.22224 -0.61553      0  \n",
       "4  236.22307 -0.61710      1  \n",
       "\n",
       "[5 rows x 22 columns]"
      ]
     },
     "execution_count": 2,
     "metadata": {},
     "output_type": "execute_result"
    }
   ],
   "source": [
    "#loading data\n",
    "train = pd.read_csv('astro_train.csv')\n",
    "test = pd.read_csv('astro_test.csv')\n",
    "train.head()"
   ]
  },
  {
   "cell_type": "code",
   "execution_count": 3,
   "metadata": {},
   "outputs": [],
   "source": [
    "#preprocessing dataset\n",
    "y_train= train['class']\n",
    "train = train.drop('class', axis= 1)\n",
    "\n",
    "dataset = pd.concat([train, test])\n",
    "dataset = dataset.drop(['id','skyVersion', 'camCol', 'run', 'rerun'], axis= 1)\n",
    "\n",
    "dataset[\"err_g_cbrt\"] = np.cbrt(dataset[\"err_g\"])\n",
    "dataset[\"err_i_cbrt\"] = np.cbrt(dataset[\"err_i\"])\n",
    "dataset[\"err_r_cbrt\"] = np.cbrt(dataset[\"err_r\"])\n",
    "dataset[\"err_u_cbrt\"] = np.cbrt(dataset[\"err_u\"])\n",
    "dataset[\"err_z_cbrt\"] = np.cbrt(dataset[\"err_z\"])\n",
    "\n",
    "\n",
    "dataset = dataset.drop(['err_g', 'err_i', 'err_r', 'err_u','err_z','#ra', 'field', 'obj', 'dec'], axis= 1)\n",
    "ss = dataset.iloc[:, :].values\n",
    "\n",
    "from sklearn.preprocessing import StandardScaler\n",
    "sc = StandardScaler()\n",
    "transformed_dataset = sc.fit_transform(ss)\n",
    "\n",
    "train_prepared = transformed_dataset[:45000, :]\n",
    "test_prepared = transformed_dataset[45000:, :]"
   ]
  },
  {
   "cell_type": "code",
   "execution_count": 4,
   "metadata": {},
   "outputs": [
    {
     "name": "stderr",
     "output_type": "stream",
     "text": [
      "Using TensorFlow backend.\n"
     ]
    }
   ],
   "source": [
    "#over-sampling using SMOTE\n",
    "from imblearn.over_sampling import SMOTE\n",
    "smote = SMOTE()\n",
    "x_res, y_res = smote.fit_sample(train_prepared, y_train)"
   ]
  },
  {
   "cell_type": "code",
   "execution_count": 5,
   "metadata": {},
   "outputs": [
    {
     "data": {
      "text/plain": [
       "RandomForestClassifier(bootstrap=False, ccp_alpha=0.0, class_weight=None,\n",
       "                       criterion='entropy', max_depth=None, max_features='auto',\n",
       "                       max_leaf_nodes=None, max_samples=None,\n",
       "                       min_impurity_decrease=0.0, min_impurity_split=None,\n",
       "                       min_samples_leaf=1, min_samples_split=2,\n",
       "                       min_weight_fraction_leaf=0.0, n_estimators=600,\n",
       "                       n_jobs=None, oob_score=False, random_state=0, verbose=0,\n",
       "                       warm_start=False)"
      ]
     },
     "execution_count": 5,
     "metadata": {},
     "output_type": "execute_result"
    }
   ],
   "source": [
    "#creating model using random forest classifier\n",
    "from sklearn.ensemble import RandomForestClassifier\n",
    "classifier = RandomForestClassifier(bootstrap=False, n_estimators = 600,criterion = 'entropy', random_state = 0)\n",
    "classifier.fit(x_res, y_res)"
   ]
  },
  {
   "cell_type": "code",
   "execution_count": 6,
   "metadata": {},
   "outputs": [
    {
     "data": {
      "text/plain": [
       "array([0.73809829, 0.72685274, 0.73192172])"
      ]
     },
     "execution_count": 6,
     "metadata": {},
     "output_type": "execute_result"
    }
   ],
   "source": [
    "#spliting data into train and test set\n",
    "from sklearn.model_selection import train_test_split\n",
    "X_train, X_test, Y_train, Y_test = train_test_split(x_res, y_res, test_size=0.2)\n",
    "\n",
    "#checking accuracies using cross val score\n",
    "from sklearn.model_selection import cross_val_score\n",
    "accurarices = cross_val_score(classifier, X_train, Y_train, cv= 3, n_jobs= -1)\n",
    "accurarices"
   ]
  },
  {
   "cell_type": "code",
   "execution_count": 7,
   "metadata": {},
   "outputs": [],
   "source": [
    "#predicting output\n",
    "y_pre = classifier.predict(test_prepared)"
   ]
  },
  {
   "cell_type": "code",
   "execution_count": 8,
   "metadata": {},
   "outputs": [
    {
     "ename": "FileNotFoundError",
     "evalue": "[Errno 2] No such file or directory: '/content/drive/My Drive/filename.csv'",
     "output_type": "error",
     "traceback": [
      "\u001b[1;31m---------------------------------------------------------------------------\u001b[0m",
      "\u001b[1;31mFileNotFoundError\u001b[0m                         Traceback (most recent call last)",
      "\u001b[1;32m<ipython-input-8-921a1bd7bfc4>\u001b[0m in \u001b[0;36m<module>\u001b[1;34m\u001b[0m\n\u001b[0;32m      1\u001b[0m \u001b[1;31m#saving output in a csv file\u001b[0m\u001b[1;33m\u001b[0m\u001b[1;33m\u001b[0m\u001b[1;33m\u001b[0m\u001b[0m\n\u001b[0;32m      2\u001b[0m \u001b[0my\u001b[0m \u001b[1;33m=\u001b[0m \u001b[0mpd\u001b[0m\u001b[1;33m.\u001b[0m\u001b[0mDataFrame\u001b[0m\u001b[1;33m(\u001b[0m\u001b[0my_pre\u001b[0m\u001b[1;33m)\u001b[0m\u001b[1;33m\u001b[0m\u001b[1;33m\u001b[0m\u001b[0m\n\u001b[1;32m----> 3\u001b[1;33m \u001b[0my\u001b[0m\u001b[1;33m.\u001b[0m\u001b[0mto_csv\u001b[0m\u001b[1;33m(\u001b[0m\u001b[1;34m'/content/drive/My Drive/filename.csv'\u001b[0m\u001b[1;33m)\u001b[0m\u001b[1;33m\u001b[0m\u001b[1;33m\u001b[0m\u001b[0m\n\u001b[0m",
      "\u001b[1;32m~\\Anaconda3\\envs\\Intern1\\lib\\site-packages\\pandas\\core\\generic.py\u001b[0m in \u001b[0;36mto_csv\u001b[1;34m(self, path_or_buf, sep, na_rep, float_format, columns, header, index, index_label, mode, encoding, compression, quoting, quotechar, line_terminator, chunksize, date_format, doublequote, escapechar, decimal)\u001b[0m\n\u001b[0;32m   3226\u001b[0m             \u001b[0mdecimal\u001b[0m\u001b[1;33m=\u001b[0m\u001b[0mdecimal\u001b[0m\u001b[1;33m,\u001b[0m\u001b[1;33m\u001b[0m\u001b[1;33m\u001b[0m\u001b[0m\n\u001b[0;32m   3227\u001b[0m         )\n\u001b[1;32m-> 3228\u001b[1;33m         \u001b[0mformatter\u001b[0m\u001b[1;33m.\u001b[0m\u001b[0msave\u001b[0m\u001b[1;33m(\u001b[0m\u001b[1;33m)\u001b[0m\u001b[1;33m\u001b[0m\u001b[1;33m\u001b[0m\u001b[0m\n\u001b[0m\u001b[0;32m   3229\u001b[0m \u001b[1;33m\u001b[0m\u001b[0m\n\u001b[0;32m   3230\u001b[0m         \u001b[1;32mif\u001b[0m \u001b[0mpath_or_buf\u001b[0m \u001b[1;32mis\u001b[0m \u001b[1;32mNone\u001b[0m\u001b[1;33m:\u001b[0m\u001b[1;33m\u001b[0m\u001b[1;33m\u001b[0m\u001b[0m\n",
      "\u001b[1;32m~\\Anaconda3\\envs\\Intern1\\lib\\site-packages\\pandas\\io\\formats\\csvs.py\u001b[0m in \u001b[0;36msave\u001b[1;34m(self)\u001b[0m\n\u001b[0;32m    181\u001b[0m                 \u001b[0mself\u001b[0m\u001b[1;33m.\u001b[0m\u001b[0mmode\u001b[0m\u001b[1;33m,\u001b[0m\u001b[1;33m\u001b[0m\u001b[1;33m\u001b[0m\u001b[0m\n\u001b[0;32m    182\u001b[0m                 \u001b[0mencoding\u001b[0m\u001b[1;33m=\u001b[0m\u001b[0mself\u001b[0m\u001b[1;33m.\u001b[0m\u001b[0mencoding\u001b[0m\u001b[1;33m,\u001b[0m\u001b[1;33m\u001b[0m\u001b[1;33m\u001b[0m\u001b[0m\n\u001b[1;32m--> 183\u001b[1;33m                 \u001b[0mcompression\u001b[0m\u001b[1;33m=\u001b[0m\u001b[0mself\u001b[0m\u001b[1;33m.\u001b[0m\u001b[0mcompression\u001b[0m\u001b[1;33m,\u001b[0m\u001b[1;33m\u001b[0m\u001b[1;33m\u001b[0m\u001b[0m\n\u001b[0m\u001b[0;32m    184\u001b[0m             )\n\u001b[0;32m    185\u001b[0m             \u001b[0mclose\u001b[0m \u001b[1;33m=\u001b[0m \u001b[1;32mTrue\u001b[0m\u001b[1;33m\u001b[0m\u001b[1;33m\u001b[0m\u001b[0m\n",
      "\u001b[1;32m~\\Anaconda3\\envs\\Intern1\\lib\\site-packages\\pandas\\io\\common.py\u001b[0m in \u001b[0;36m_get_handle\u001b[1;34m(path_or_buf, mode, encoding, compression, memory_map, is_text)\u001b[0m\n\u001b[0;32m    397\u001b[0m         \u001b[1;32mif\u001b[0m \u001b[0mencoding\u001b[0m\u001b[1;33m:\u001b[0m\u001b[1;33m\u001b[0m\u001b[1;33m\u001b[0m\u001b[0m\n\u001b[0;32m    398\u001b[0m             \u001b[1;31m# Encoding\u001b[0m\u001b[1;33m\u001b[0m\u001b[1;33m\u001b[0m\u001b[1;33m\u001b[0m\u001b[0m\n\u001b[1;32m--> 399\u001b[1;33m             \u001b[0mf\u001b[0m \u001b[1;33m=\u001b[0m \u001b[0mopen\u001b[0m\u001b[1;33m(\u001b[0m\u001b[0mpath_or_buf\u001b[0m\u001b[1;33m,\u001b[0m \u001b[0mmode\u001b[0m\u001b[1;33m,\u001b[0m \u001b[0mencoding\u001b[0m\u001b[1;33m=\u001b[0m\u001b[0mencoding\u001b[0m\u001b[1;33m,\u001b[0m \u001b[0mnewline\u001b[0m\u001b[1;33m=\u001b[0m\u001b[1;34m\"\"\u001b[0m\u001b[1;33m)\u001b[0m\u001b[1;33m\u001b[0m\u001b[1;33m\u001b[0m\u001b[0m\n\u001b[0m\u001b[0;32m    400\u001b[0m         \u001b[1;32melif\u001b[0m \u001b[0mis_text\u001b[0m\u001b[1;33m:\u001b[0m\u001b[1;33m\u001b[0m\u001b[1;33m\u001b[0m\u001b[0m\n\u001b[0;32m    401\u001b[0m             \u001b[1;31m# No explicit encoding\u001b[0m\u001b[1;33m\u001b[0m\u001b[1;33m\u001b[0m\u001b[1;33m\u001b[0m\u001b[0m\n",
      "\u001b[1;31mFileNotFoundError\u001b[0m: [Errno 2] No such file or directory: '/content/drive/My Drive/filename.csv'"
     ]
    }
   ],
   "source": [
    "#saving output in a csv file\n",
    "y = pd.DataFrame(y_pre)\n",
    "y.to_csv('/content/drive/My Drive/filename.csv')"
   ]
  },
  {
   "cell_type": "code",
   "execution_count": null,
   "metadata": {},
   "outputs": [],
   "source": []
  }
 ],
 "metadata": {
  "kernelspec": {
   "display_name": "Python 3",
   "language": "python",
   "name": "python3"
  },
  "language_info": {
   "codemirror_mode": {
    "name": "ipython",
    "version": 3
   },
   "file_extension": ".py",
   "mimetype": "text/x-python",
   "name": "python",
   "nbconvert_exporter": "python",
   "pygments_lexer": "ipython3",
   "version": "3.6.9"
  }
 },
 "nbformat": 4,
 "nbformat_minor": 2
}
