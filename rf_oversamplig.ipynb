{
 "cells": [
  {
   "cell_type": "code",
   "execution_count": 1,
   "metadata": {},
   "outputs": [
    {
     "name": "stderr",
     "output_type": "stream",
     "text": [
      "Using TensorFlow backend.\n"
     ]
    }
   ],
   "source": [
    "#importing libraries\n",
    "import pandas as pd\n",
    "import numpy as np\n",
    "import matplotlib.pyplot as plt\n",
    "import seaborn as sns\n",
    "%matplotlib inline\n",
    "from sklearn.ensemble import RandomForestClassifier\n",
    "from sklearn.pipeline import Pipeline\n",
    "from sklearn.decomposition import PCA\n",
    "from sklearn.preprocessing import Normalizer\n",
    "from sklearn.preprocessing import StandardScaler, MaxAbsScaler, MinMaxScaler, RobustScaler, QuantileTransformer, PowerTransformer\n",
    "from sklearn.model_selection import cross_val_score\n",
    "from sklearn.metrics import accuracy_score, f1_score\n",
    "from sklearn.model_selection import GridSearchCV, KFold\n",
    "from imblearn.over_sampling import (SMOTE, BorderlineSMOTE, SVMSMOTE, SMOTENC,\n",
    "                                    KMeansSMOTE)\n"
   ]
  },
  {
   "cell_type": "code",
   "execution_count": 2,
   "metadata": {},
   "outputs": [],
   "source": [
    "#importing dataset\n",
    "train = pd.read_csv('astro_train.csv')\n",
    "test = pd.read_csv('astro_test.csv')\n",
    "\n"
   ]
  },
  {
   "cell_type": "code",
   "execution_count": 3,
   "metadata": {},
   "outputs": [],
   "source": [
    "\n",
    "y_train= train['class']\n",
    "train = train.drop(['class'], axis= 1)\n",
    "\n",
    "dataset = pd.concat([train, test])\n",
    "dataset = dataset.drop(['id','skyVersion', 'run', 'rerun', 'camCol'], axis= 1)\n",
    "\n",
    "dataset[\"err_g_log\"] = np.log(dataset[\"err_g\"])\n",
    "dataset[\"err_i_log\"] = np.log(dataset[\"err_i\"])\n",
    "dataset[\"err_r_cbrt\"] = np.cbrt(dataset[\"err_r\"])\n",
    "dataset[\"err_u_log\"] = np.log(dataset[\"err_u\"])\n",
    "dataset[\"err_z_log\"] = np.log(dataset[\"err_z\"])\n",
    "dataset[\"dec_cbrt\"] = np.cbrt(dataset[\"dec\"])\n",
    "dataset[\"photoz_u_log\"] = np.log(dataset[\"photoz\"])\n",
    "dataset[\"obj_z_log\"] = np.log(dataset[\"obj\"])\n",
    "\n",
    "dataset[\"#ra_cat\"] = pd.cut(dataset[\"#ra\"],\n",
    "                           bins=[0,180,220,240,np.inf],\n",
    "                           labels=[1,2,3,4])\n",
    "\n",
    "#dataset[\"dec_cat\"] = pd.cut(dataset[\"dec\"],         bins=[-1.25,-1.0,-0.25,np.inf],                  labels=[1,2,3])\n",
    "\n",
    "dataset[\"extinction_r_cat\"] = pd.cut(dataset[\"extinction_r\"],\n",
    "                           bins=[0,0.10,0.15,np.inf],\n",
    "                           labels=[1,2,3])\n",
    "\n",
    "dataset[\"field_cat\"] = pd.cut(dataset[\"field\"],\n",
    "                           bins=[0,300,500,550,np.inf],\n",
    "                           labels=[1,2,3,4])\n",
    "\n",
    "dataset = dataset.drop(['err_g',  'err_r','err_i', 'err_u', 'err_z','photoz','obj', '#ra', 'dec', 'extinction_r', 'field'], axis= 1)\n",
    "\n",
    "cat_attr = [\"#ra_cat\",\"dec_cat\",\"extinction_r_cat\",\"field_cat\"]\n",
    "num_attr = [i for i in list(dataset.columns) if i not in cat_attr]\n",
    "\n",
    "from sklearn.pipeline import Pipeline\n",
    "from sklearn.preprocessing import StandardScaler\n",
    "\n",
    "num_pipeline = Pipeline([('std_scaler',MinMaxScaler())])\n",
    "\n",
    "from sklearn.compose import ColumnTransformer\n",
    "from sklearn.preprocessing import OneHotEncoder\n",
    "\n",
    "full_pipeline = ColumnTransformer([\n",
    "             (\"num\", num_pipeline, num_attr)\n",
    "             ])\n",
    "\n",
    "transformed_dataset = full_pipeline.fit_transform(dataset)\n",
    "\n",
    "\n",
    "train_prepared = transformed_dataset[:45000, :]\n",
    "test_prepared = transformed_dataset[45000:, :]\n",
    "\n"
   ]
  },
  {
   "cell_type": "code",
   "execution_count": 4,
   "metadata": {},
   "outputs": [],
   "source": [
    "#over-sampling data\n",
    "from imblearn.over_sampling import SMOTE\n",
    "from imblearn.over_sampling import ADASYN\n",
    "\n",
    "#smote =  \n",
    "#smote =   SMOTE()\n",
    "#\n",
    "#nr = NearMiss()\n",
    "from imblearn.over_sampling import RandomOverSampler\n",
    "from imblearn.under_sampling import NearMiss \n",
    "smote = BorderlineSMOTE(random_state=0, kind='borderline-2')\n",
    "\n",
    "x_res, y_res = smote.fit_sample(train_prepared, y_train)"
   ]
  },
  {
   "cell_type": "code",
   "execution_count": 5,
   "metadata": {},
   "outputs": [
    {
     "data": {
      "text/plain": [
       "RandomForestClassifier(bootstrap=True, ccp_alpha=0.0, class_weight=None,\n",
       "                       criterion='gini', max_depth=None, max_features='auto',\n",
       "                       max_leaf_nodes=None, max_samples=None,\n",
       "                       min_impurity_decrease=0.0, min_impurity_split=None,\n",
       "                       min_samples_leaf=1, min_samples_split=2,\n",
       "                       min_weight_fraction_leaf=0.0, n_estimators=600,\n",
       "                       n_jobs=None, oob_score=False, random_state=0, verbose=0,\n",
       "                       warm_start=False)"
      ]
     },
     "execution_count": 5,
     "metadata": {},
     "output_type": "execute_result"
    }
   ],
   "source": [
    "#creating model using random forest classifier\n",
    "from sklearn.ensemble import RandomForestClassifier\n",
    "classifier = RandomForestClassifier(n_estimators = 600, random_state = 0)\n",
    "classifier.fit(x_res, y_res)"
   ]
  },
  {
   "cell_type": "code",
   "execution_count": 6,
   "metadata": {},
   "outputs": [
    {
     "data": {
      "text/plain": [
       "Counter({0: 5748, 1: 5450, 2: 3802})"
      ]
     },
     "execution_count": 6,
     "metadata": {},
     "output_type": "execute_result"
    }
   ],
   "source": [
    "#predicting output\n",
    "y_pre = classifier.predict(test_prepared)\n",
    "#checking number of elements in each class\n",
    "from collections import Counter\n",
    "Counter(y_pre)"
   ]
  },
  {
   "cell_type": "code",
   "execution_count": 7,
   "metadata": {},
   "outputs": [
    {
     "data": {
      "text/plain": [
       "array([0.66775   , 0.67058333, 0.67516667])"
      ]
     },
     "execution_count": 7,
     "metadata": {},
     "output_type": "execute_result"
    }
   ],
   "source": [
    "#checking accuracy\n",
    "from sklearn.model_selection import train_test_split\n",
    "X_train, X_test, y_train, y_test = train_test_split(train_prepared, y_train, test_size=0.2)\n",
    "\n",
    "from sklearn.model_selection import cross_val_score\n",
    "accuracies = cross_val_score(estimator = classifier, X= X_train, y = y_train, cv = 3)\n",
    "accuracies\n",
    "#accuracies.std()"
   ]
  },
  {
   "cell_type": "code",
   "execution_count": 8,
   "metadata": {},
   "outputs": [],
   "source": [
    "#saving predictionsn to csv file\n",
    "y = pd.DataFrame(y_pre)\n",
    "y.to_csv('Nabo1.csv')"
   ]
  },
  {
   "cell_type": "code",
   "execution_count": null,
   "metadata": {},
   "outputs": [],
   "source": []
  },
  {
   "cell_type": "code",
   "execution_count": null,
   "metadata": {},
   "outputs": [],
   "source": []
  },
  {
   "cell_type": "code",
   "execution_count": null,
   "metadata": {},
   "outputs": [],
   "source": []
  }
 ],
 "metadata": {
  "kernelspec": {
   "display_name": "Python 3",
   "language": "python",
   "name": "python3"
  },
  "language_info": {
   "codemirror_mode": {
    "name": "ipython",
    "version": 3
   },
   "file_extension": ".py",
   "mimetype": "text/x-python",
   "name": "python",
   "nbconvert_exporter": "python",
   "pygments_lexer": "ipython3",
   "version": "3.6.9"
  }
 },
 "nbformat": 4,
 "nbformat_minor": 2
}
